{
 "cells": [
  {
   "cell_type": "code",
   "execution_count": 17,
   "metadata": {
    "collapsed": true
   },
   "outputs": [
    {
     "name": "stdout",
     "output_type": "stream",
     "text": [
      "done\n"
     ]
    }
   ],
   "source": [
    "import numpy as np\n",
    "import pandas as pd\n",
    "from sklearn.feature_extraction.text import TfidfVectorizer\n",
    "from sklearn.feature_extraction import DictVectorizer\n",
    "from scipy.sparse import hstack\n",
    "from sklearn.linear_model import Ridge\n",
    "print(\"done\")"
   ]
  },
  {
   "cell_type": "code",
   "execution_count": 18,
   "outputs": [],
   "source": [
    "train_texts = pd.read_csv(\"datasets/salary-train.csv\")\n",
    "test_texts = pd.read_csv(\"datasets/salary-test-mini.csv\")\n",
    "train_texts.iloc[:, 0] = train_texts.iloc[:, 0].apply(str.lower)\n",
    "test_texts.iloc[:, 0] = test_texts.iloc[:, 0].apply(str.lower)\n",
    "train_texts['FullDescription'] = train_texts['FullDescription'].replace('[^a-zA-Z0-9]', ' ', regex = True)\n",
    "test_texts['FullDescription'] = test_texts['FullDescription'].replace('[^a-zA-Z0-9]', ' ', regex = True)"
   ],
   "metadata": {
    "collapsed": false,
    "pycharm": {
     "name": "#%%\n"
    }
   }
  },
  {
   "cell_type": "code",
   "execution_count": 19,
   "outputs": [
    {
     "data": {
      "text/plain": "                                     FullDescription LocationNormalized  \\\n0  international sales manager london     k      ...             London   \n1  an ideal opportunity for an individual that ha...             London   \n2  online content and brand manager   luxury reta...  South East London   \n3  a great local marketleader is seeking a perman...            Dereham   \n4  registered nurse   rgn  nursing home for young...   Sutton Coldfield   \n\n  ContractTime  SalaryNormalized  \n0    permanent             33000  \n1    permanent             50000  \n2    permanent             40000  \n3    permanent             22500  \n4          NaN             20355  ",
      "text/html": "<div>\n<style scoped>\n    .dataframe tbody tr th:only-of-type {\n        vertical-align: middle;\n    }\n\n    .dataframe tbody tr th {\n        vertical-align: top;\n    }\n\n    .dataframe thead th {\n        text-align: right;\n    }\n</style>\n<table border=\"1\" class=\"dataframe\">\n  <thead>\n    <tr style=\"text-align: right;\">\n      <th></th>\n      <th>FullDescription</th>\n      <th>LocationNormalized</th>\n      <th>ContractTime</th>\n      <th>SalaryNormalized</th>\n    </tr>\n  </thead>\n  <tbody>\n    <tr>\n      <th>0</th>\n      <td>international sales manager london     k      ...</td>\n      <td>London</td>\n      <td>permanent</td>\n      <td>33000</td>\n    </tr>\n    <tr>\n      <th>1</th>\n      <td>an ideal opportunity for an individual that ha...</td>\n      <td>London</td>\n      <td>permanent</td>\n      <td>50000</td>\n    </tr>\n    <tr>\n      <th>2</th>\n      <td>online content and brand manager   luxury reta...</td>\n      <td>South East London</td>\n      <td>permanent</td>\n      <td>40000</td>\n    </tr>\n    <tr>\n      <th>3</th>\n      <td>a great local marketleader is seeking a perman...</td>\n      <td>Dereham</td>\n      <td>permanent</td>\n      <td>22500</td>\n    </tr>\n    <tr>\n      <th>4</th>\n      <td>registered nurse   rgn  nursing home for young...</td>\n      <td>Sutton Coldfield</td>\n      <td>NaN</td>\n      <td>20355</td>\n    </tr>\n  </tbody>\n</table>\n</div>"
     },
     "execution_count": 19,
     "metadata": {},
     "output_type": "execute_result"
    }
   ],
   "source": [
    "train_texts.head(5)"
   ],
   "metadata": {
    "collapsed": false,
    "pycharm": {
     "name": "#%%\n"
    }
   }
  },
  {
   "cell_type": "code",
   "execution_count": 20,
   "outputs": [
    {
     "data": {
      "text/plain": "<60000x22861 sparse matrix of type '<class 'numpy.float64'>'\n\twith 8365759 stored elements in Compressed Sparse Row format>"
     },
     "execution_count": 20,
     "metadata": {},
     "output_type": "execute_result"
    }
   ],
   "source": [
    "vectorised = TfidfVectorizer(min_df=5)\n",
    "desc_train = vectorised.fit_transform(train_texts[\"FullDescription\"])\n",
    "desc_test = vectorised.transform(test_texts[\"FullDescription\"])\n",
    "desc_train"
   ],
   "metadata": {
    "collapsed": false,
    "pycharm": {
     "name": "#%%\n"
    }
   }
  },
  {
   "cell_type": "code",
   "execution_count": 21,
   "outputs": [
    {
     "name": "stderr",
     "output_type": "stream",
     "text": [
      "c:\\users\\admin\\.virtualenvs\\pandas_trying-m-zk6hwn\\lib\\site-packages\\pandas\\core\\frame.py:4322: SettingWithCopyWarning: \n",
      "A value is trying to be set on a copy of a slice from a DataFrame\n",
      "\n",
      "See the caveats in the documentation: https://pandas.pydata.org/pandas-docs/stable/user_guide/indexing.html#returning-a-view-versus-a-copy\n",
      "  downcast=downcast,\n"
     ]
    }
   ],
   "source": [
    "train_texts[\"ContractTime\"].fillna('nan', inplace=True)\n",
    "train_texts[\"LocationNormalized\"].fillna('nan', inplace=True)\n",
    "test_texts[[\"LocationNormalized\", \"ContractTime\"]].fillna('nan', inplace=True)"
   ],
   "metadata": {
    "collapsed": false,
    "pycharm": {
     "name": "#%%\n"
    }
   }
  },
  {
   "cell_type": "code",
   "execution_count": 26,
   "outputs": [
    {
     "data": {
      "text/plain": "<60000x1766 sparse matrix of type '<class 'numpy.float64'>'\n\twith 120000 stored elements in Compressed Sparse Row format>"
     },
     "execution_count": 26,
     "metadata": {},
     "output_type": "execute_result"
    }
   ],
   "source": [
    "dict_vect = DictVectorizer()\n",
    "train_categ = dict_vect.fit_transform(train_texts[['LocationNormalized', 'ContractTime']].to_dict('records'))\n",
    "test_categ = dict_vect.transform(test_texts[['LocationNormalized', 'ContractTime']].to_dict('records'))\n",
    "train_categ"
   ],
   "metadata": {
    "collapsed": false,
    "pycharm": {
     "name": "#%%\n"
    }
   }
  },
  {
   "cell_type": "code",
   "execution_count": 27,
   "outputs": [],
   "source": [
    "X = hstack([desc_train, train_categ])\n",
    "X_test = hstack([desc_test, test_categ])"
   ],
   "metadata": {
    "collapsed": false,
    "pycharm": {
     "name": "#%%\n"
    }
   }
  },
  {
   "cell_type": "code",
   "execution_count": 28,
   "outputs": [
    {
     "data": {
      "text/plain": "Ridge(alpha=1, random_state=241)"
     },
     "execution_count": 28,
     "metadata": {},
     "output_type": "execute_result"
    }
   ],
   "source": [
    "ridge = Ridge(alpha=1, random_state=241)\n",
    "ridge.fit(X, train_texts[\"SalaryNormalized\"])\n"
   ],
   "metadata": {
    "collapsed": false,
    "pycharm": {
     "name": "#%%\n"
    }
   }
  },
  {
   "cell_type": "code",
   "execution_count": 29,
   "outputs": [
    {
     "data": {
      "text/plain": "array([56576.52286114, 37136.22493508])"
     },
     "execution_count": 29,
     "metadata": {},
     "output_type": "execute_result"
    }
   ],
   "source": [
    "y_test = ridge.predict(X_test)\n",
    "y_test"
   ],
   "metadata": {
    "collapsed": false,
    "pycharm": {
     "name": "#%%\n"
    }
   }
  },
  {
   "cell_type": "code",
   "execution_count": 30,
   "outputs": [
    {
     "name": "stdout",
     "output_type": "stream",
     "text": [
      "56576.52\n",
      "37136.22\n"
     ]
    }
   ],
   "source": [
    "for i in y_test:\n",
    "    print(round(i, 2))\n",
    "\n"
   ],
   "metadata": {
    "collapsed": false,
    "pycharm": {
     "name": "#%%\n"
    }
   }
  }
 ],
 "metadata": {
  "kernelspec": {
   "display_name": "Python 3",
   "language": "python",
   "name": "python3"
  },
  "language_info": {
   "codemirror_mode": {
    "name": "ipython",
    "version": 2
   },
   "file_extension": ".py",
   "mimetype": "text/x-python",
   "name": "python",
   "nbconvert_exporter": "python",
   "pygments_lexer": "ipython2",
   "version": "2.7.6"
  }
 },
 "nbformat": 4,
 "nbformat_minor": 0
}