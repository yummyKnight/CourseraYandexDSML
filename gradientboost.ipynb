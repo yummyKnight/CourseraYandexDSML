{
 "cells": [
  {
   "cell_type": "code",
   "execution_count": 1,
   "metadata": {
    "collapsed": true
   },
   "outputs": [
    {
     "name": "stdout",
     "output_type": "stream",
     "text": [
      "done\n"
     ]
    }
   ],
   "source": [
    "\n",
    "from sklearn.ensemble import GradientBoostingClassifier\n",
    "from sklearn.metrics import log_loss\n",
    "from sklearn.model_selection import  train_test_split\n",
    "import numpy as np\n",
    "import pandas as pd\n",
    "from matplotlib import pyplot as plt\n",
    "print(\"done\")"
   ]
  },
  {
   "cell_type": "code",
   "execution_count": 2,
   "outputs": [
    {
     "data": {
      "text/plain": "   Activity        D1        D2    D3   D4        D5        D6        D7  \\\n0         1  0.000000  0.497009  0.10  0.0  0.132956  0.678031  0.273166   \n1         1  0.366667  0.606291  0.05  0.0  0.111209  0.803455  0.106105   \n2         1  0.033300  0.480124  0.00  0.0  0.209791  0.610350  0.356453   \n3         1  0.000000  0.538825  0.00  0.5  0.196344  0.724230  0.235606   \n4         0  0.100000  0.517794  0.00  0.0  0.494734  0.781422  0.154361   \n\n         D8        D9  ...  D1767  D1768  D1769  D1770  D1771  D1772  D1773  \\\n0  0.585445  0.743663  ...      0      0      0      0      0      0      0   \n1  0.411754  0.836582  ...      1      1      1      1      0      1      0   \n2  0.517720  0.679051  ...      0      0      0      0      0      0      0   \n3  0.288764  0.805110  ...      0      0      0      0      0      0      0   \n4  0.303809  0.812646  ...      0      0      0      0      0      0      0   \n\n   D1774  D1775  D1776  \n0      0      0      0  \n1      0      1      0  \n2      0      0      0  \n3      0      0      0  \n4      0      0      0  \n\n[5 rows x 1777 columns]",
      "text/html": "<div>\n<style scoped>\n    .dataframe tbody tr th:only-of-type {\n        vertical-align: middle;\n    }\n\n    .dataframe tbody tr th {\n        vertical-align: top;\n    }\n\n    .dataframe thead th {\n        text-align: right;\n    }\n</style>\n<table border=\"1\" class=\"dataframe\">\n  <thead>\n    <tr style=\"text-align: right;\">\n      <th></th>\n      <th>Activity</th>\n      <th>D1</th>\n      <th>D2</th>\n      <th>D3</th>\n      <th>D4</th>\n      <th>D5</th>\n      <th>D6</th>\n      <th>D7</th>\n      <th>D8</th>\n      <th>D9</th>\n      <th>...</th>\n      <th>D1767</th>\n      <th>D1768</th>\n      <th>D1769</th>\n      <th>D1770</th>\n      <th>D1771</th>\n      <th>D1772</th>\n      <th>D1773</th>\n      <th>D1774</th>\n      <th>D1775</th>\n      <th>D1776</th>\n    </tr>\n  </thead>\n  <tbody>\n    <tr>\n      <th>0</th>\n      <td>1</td>\n      <td>0.000000</td>\n      <td>0.497009</td>\n      <td>0.10</td>\n      <td>0.0</td>\n      <td>0.132956</td>\n      <td>0.678031</td>\n      <td>0.273166</td>\n      <td>0.585445</td>\n      <td>0.743663</td>\n      <td>...</td>\n      <td>0</td>\n      <td>0</td>\n      <td>0</td>\n      <td>0</td>\n      <td>0</td>\n      <td>0</td>\n      <td>0</td>\n      <td>0</td>\n      <td>0</td>\n      <td>0</td>\n    </tr>\n    <tr>\n      <th>1</th>\n      <td>1</td>\n      <td>0.366667</td>\n      <td>0.606291</td>\n      <td>0.05</td>\n      <td>0.0</td>\n      <td>0.111209</td>\n      <td>0.803455</td>\n      <td>0.106105</td>\n      <td>0.411754</td>\n      <td>0.836582</td>\n      <td>...</td>\n      <td>1</td>\n      <td>1</td>\n      <td>1</td>\n      <td>1</td>\n      <td>0</td>\n      <td>1</td>\n      <td>0</td>\n      <td>0</td>\n      <td>1</td>\n      <td>0</td>\n    </tr>\n    <tr>\n      <th>2</th>\n      <td>1</td>\n      <td>0.033300</td>\n      <td>0.480124</td>\n      <td>0.00</td>\n      <td>0.0</td>\n      <td>0.209791</td>\n      <td>0.610350</td>\n      <td>0.356453</td>\n      <td>0.517720</td>\n      <td>0.679051</td>\n      <td>...</td>\n      <td>0</td>\n      <td>0</td>\n      <td>0</td>\n      <td>0</td>\n      <td>0</td>\n      <td>0</td>\n      <td>0</td>\n      <td>0</td>\n      <td>0</td>\n      <td>0</td>\n    </tr>\n    <tr>\n      <th>3</th>\n      <td>1</td>\n      <td>0.000000</td>\n      <td>0.538825</td>\n      <td>0.00</td>\n      <td>0.5</td>\n      <td>0.196344</td>\n      <td>0.724230</td>\n      <td>0.235606</td>\n      <td>0.288764</td>\n      <td>0.805110</td>\n      <td>...</td>\n      <td>0</td>\n      <td>0</td>\n      <td>0</td>\n      <td>0</td>\n      <td>0</td>\n      <td>0</td>\n      <td>0</td>\n      <td>0</td>\n      <td>0</td>\n      <td>0</td>\n    </tr>\n    <tr>\n      <th>4</th>\n      <td>0</td>\n      <td>0.100000</td>\n      <td>0.517794</td>\n      <td>0.00</td>\n      <td>0.0</td>\n      <td>0.494734</td>\n      <td>0.781422</td>\n      <td>0.154361</td>\n      <td>0.303809</td>\n      <td>0.812646</td>\n      <td>...</td>\n      <td>0</td>\n      <td>0</td>\n      <td>0</td>\n      <td>0</td>\n      <td>0</td>\n      <td>0</td>\n      <td>0</td>\n      <td>0</td>\n      <td>0</td>\n      <td>0</td>\n    </tr>\n  </tbody>\n</table>\n<p>5 rows × 1777 columns</p>\n</div>"
     },
     "execution_count": 2,
     "metadata": {},
     "output_type": "execute_result"
    }
   ],
   "source": [
    "gvm_data = pd.read_csv(\"datasets/gbm-data.csv\")\n",
    "X = gvm_data.iloc[:, 1:]\n",
    "y = gvm_data.Activity\n",
    "gvm_data.head()"
   ],
   "metadata": {
    "collapsed": false,
    "pycharm": {
     "name": "#%%\n"
    }
   }
  },
  {
   "cell_type": "code",
   "execution_count": 4,
   "outputs": [],
   "source": [
    "X_train, X_test, y_train, y_test =  train_test_split(X.to_numpy(), y.to_numpy(),\n",
    "                                      test_size=0.8,\n",
    "                                      random_state=241)"
   ],
   "metadata": {
    "collapsed": false,
    "pycharm": {
     "name": "#%%\n"
    }
   }
  },
  {
   "cell_type": "code",
   "execution_count": 5,
   "outputs": [
    {
     "name": "stdout",
     "output_type": "stream",
     "text": [
      "      Iter       Train Loss   Remaining Time \n",
      "         1           1.0190           11.71s\n",
      "         2           0.9192           11.17s\n",
      "         3           0.8272           10.88s\n",
      "         4           0.7834           10.46s\n",
      "         5           0.7109           10.15s\n",
      "         6           0.6368           10.14s\n",
      "         7           0.5797           10.15s\n",
      "         8           0.5610           10.02s\n",
      "         9           0.5185            9.89s\n",
      "        10           0.4984            9.75s\n",
      "        20           0.1999            9.36s\n",
      "        30           0.1313            9.20s\n",
      "        40           0.0790            9.02s\n",
      "        50           0.0511            8.78s\n",
      "        60           0.0352            8.26s\n",
      "        70           0.0245            7.72s\n",
      "        80           0.0162            7.21s\n",
      "        90           0.0114            6.88s\n",
      "       100           0.0077            6.39s\n",
      "       200           0.0002            2.06s\n",
      "      Iter       Train Loss   Remaining Time \n",
      "         1           1.1255            8.47s\n",
      "         2           1.0035            8.32s\n",
      "         3           0.9386            8.32s\n",
      "         4           0.8844            8.31s\n",
      "         5           0.8381            8.29s\n",
      "         6           0.7995            8.26s\n",
      "         7           0.7559            8.30s\n",
      "         8           0.7205            8.27s\n",
      "         9           0.6958            8.23s\n",
      "        10           0.6725            8.19s\n",
      "        20           0.4672            8.00s\n",
      "        30           0.3179            7.65s\n",
      "        40           0.2274            7.33s\n",
      "        50           0.1774            6.94s\n",
      "        60           0.1394            6.58s\n",
      "        70           0.1050            6.25s\n",
      "        80           0.0805            5.89s\n",
      "        90           0.0650            5.53s\n",
      "       100           0.0511            5.18s\n",
      "       200           0.0058            1.71s\n",
      "      Iter       Train Loss   Remaining Time \n",
      "         1           1.2095            8.47s\n",
      "         2           1.1006            8.43s\n",
      "         3           1.0240            8.40s\n",
      "         4           0.9729            8.36s\n",
      "         5           0.9387            8.33s\n",
      "         6           0.8948            8.30s\n",
      "         7           0.8621            8.40s\n",
      "         8           0.8360            8.35s\n",
      "         9           0.8171            8.30s\n",
      "        10           0.7883            8.26s\n",
      "        20           0.6029            7.95s\n",
      "        30           0.4760            7.56s\n",
      "        40           0.3879            7.19s\n",
      "        50           0.3325            6.88s\n",
      "        60           0.2759            6.51s\n",
      "        70           0.2304            6.15s\n",
      "        80           0.1969            5.81s\n",
      "        90           0.1718            5.48s\n",
      "       100           0.1404            5.13s\n",
      "       200           0.0358            1.71s\n",
      "      Iter       Train Loss   Remaining Time \n",
      "         1           1.2613            8.47s\n",
      "         2           1.1715            8.31s\n",
      "         3           1.1009            8.32s\n",
      "         4           1.0529            8.24s\n",
      "         5           1.0130            8.23s\n",
      "         6           0.9740            8.17s\n",
      "         7           0.9475            8.26s\n",
      "         8           0.9197            8.26s\n",
      "         9           0.8979            8.22s\n",
      "        10           0.8730            8.21s\n",
      "        20           0.7207            7.92s\n",
      "        30           0.6055            7.58s\n",
      "        40           0.5244            7.28s\n",
      "        50           0.4501            6.91s\n",
      "        60           0.3908            6.55s\n",
      "        70           0.3372            6.22s\n",
      "        80           0.3009            5.86s\n",
      "        90           0.2603            5.50s\n",
      "       100           0.2327            5.16s\n",
      "       200           0.0835            1.71s\n",
      "      Iter       Train Loss   Remaining Time \n",
      "         1           1.3199            8.47s\n",
      "         2           1.2645            8.43s\n",
      "         3           1.2170            8.40s\n",
      "         4           1.1775            8.30s\n",
      "         5           1.1404            8.23s\n",
      "         6           1.1106            8.21s\n",
      "         7           1.0844            8.23s\n",
      "         8           1.0617            8.20s\n",
      "         9           1.0411            8.17s\n",
      "        10           1.0223            8.11s\n",
      "        20           0.8864            7.76s\n",
      "        30           0.7844            7.43s\n",
      "        40           0.7176            7.16s\n",
      "        50           0.6590            6.85s\n",
      "        60           0.6120            6.59s\n",
      "        70           0.5599            6.27s\n",
      "        80           0.5242            5.91s\n",
      "        90           0.4829            5.58s\n",
      "       100           0.4473            5.25s\n",
      "       200           0.2379            1.74s\n",
      "Got it\n"
     ]
    }
   ],
   "source": [
    "loss_train = {}\n",
    "loss_test = {}\n",
    "for lr in [1, 0.5, 0.3, 0.2, 0.1]:\n",
    "    estimator = GradientBoostingClassifier(n_estimators=250, verbose=True, random_state=241, learning_rate=lr)\n",
    "    estimator.fit(X_train, y_train)\n",
    "    proba_gen = estimator.staged_predict_proba(X_train)\n",
    "    pos_prob = [i[:, 1] for i in proba_gen] # get probs of positive class\n",
    "    loss_train[f\"Learning rate = {lr}\"] = [log_loss(y_train, probs) for probs in pos_prob]\n",
    "print(\"Got it\")"
   ],
   "metadata": {
    "collapsed": false,
    "pycharm": {
     "name": "#%%\n"
    }
   }
  },
  {
   "cell_type": "code",
   "execution_count": 7,
   "outputs": [
    {
     "name": "stdout",
     "output_type": "stream",
     "text": [
      "      Iter       Train Loss   Remaining Time \n",
      "         1           1.0190           12.71s\n",
      "         2           0.9192           11.73s\n",
      "         3           0.8272           11.50s\n",
      "         4           0.7834           11.05s\n",
      "         5           0.7109           10.72s\n",
      "         6           0.6368           10.36s\n",
      "         7           0.5797           10.27s\n",
      "         8           0.5610           10.46s\n",
      "         9           0.5185           10.68s\n",
      "        10           0.4984           10.68s\n",
      "        20           0.1999           10.12s\n",
      "        30           0.1313            9.92s\n",
      "        40           0.0790            9.26s\n",
      "        50           0.0511            8.91s\n",
      "        60           0.0352            8.33s\n",
      "        70           0.0245            7.94s\n",
      "        80           0.0162            7.53s\n",
      "        90           0.0114            7.02s\n",
      "       100           0.0077            6.52s\n",
      "       200           0.0002            2.16s\n",
      "      Iter       Train Loss   Remaining Time \n",
      "         1           1.1255            9.69s\n",
      "         2           1.0035            9.29s\n",
      "         3           0.9386            9.22s\n",
      "         4           0.8844            9.53s\n",
      "         5           0.8381            9.66s\n",
      "         6           0.7995            9.85s\n",
      "         7           0.7559            9.79s\n",
      "         8           0.7205            9.84s\n",
      "         9           0.6958            9.86s\n",
      "        10           0.6725            9.73s\n",
      "        20           0.4672           10.62s\n",
      "        30           0.3179           10.77s\n",
      "        40           0.2274            9.92s\n",
      "        50           0.1774            9.16s\n",
      "        60           0.1394            8.49s\n",
      "        70           0.1050            7.96s\n",
      "        80           0.0805            7.40s\n",
      "        90           0.0650            6.95s\n",
      "       100           0.0511            6.51s\n",
      "       200           0.0058            2.18s\n",
      "      Iter       Train Loss   Remaining Time \n",
      "         1           1.2095            9.47s\n",
      "         2           1.1006            9.31s\n",
      "         3           1.0240            9.23s\n",
      "         4           0.9729            9.17s\n",
      "         5           0.9387            9.12s\n",
      "         6           0.8948            9.16s\n",
      "         7           0.8621            9.10s\n",
      "         8           0.8360            9.05s\n",
      "         9           0.8171            8.98s\n",
      "        10           0.7883            8.91s\n",
      "        20           0.6029           10.37s\n",
      "        30           0.4760           10.76s\n",
      "        40           0.3879            9.87s\n",
      "        50           0.3325            9.28s\n",
      "        60           0.2759            8.70s\n",
      "        70           0.2304            8.12s\n",
      "        80           0.1969            7.58s\n",
      "        90           0.1718            7.08s\n",
      "       100           0.1404            6.65s\n",
      "       200           0.0358            2.12s\n",
      "      Iter       Train Loss   Remaining Time \n",
      "         1           1.2613            9.22s\n",
      "         2           1.1715            9.31s\n",
      "         3           1.1009            9.23s\n",
      "         4           1.0529            9.17s\n",
      "         5           1.0130            9.17s\n",
      "         6           0.9740            9.24s\n",
      "         7           0.9475            9.17s\n",
      "         8           0.9197            9.14s\n",
      "         9           0.8979            9.11s\n",
      "        10           0.8730            9.16s\n",
      "        20           0.7207            9.15s\n",
      "        30           0.6055            8.64s\n",
      "        40           0.5244            8.25s\n",
      "        50           0.4501            7.94s\n",
      "        60           0.3908            7.51s\n",
      "        70           0.3372            7.16s\n",
      "        80           0.3009            6.77s\n",
      "        90           0.2603            6.40s\n",
      "       100           0.2327            6.04s\n",
      "       200           0.0835            2.08s\n",
      "      Iter       Train Loss   Remaining Time \n",
      "         1           1.3199            8.97s\n",
      "         2           1.2645            8.94s\n",
      "         3           1.2170            9.15s\n",
      "         4           1.1775            9.17s\n",
      "         5           1.1404            9.12s\n",
      "         6           1.1106            9.04s\n",
      "         7           1.0844            9.14s\n",
      "         8           1.0617            9.17s\n",
      "         9           1.0411            9.14s\n",
      "        10           1.0223            9.06s\n",
      "        20           0.8864            8.63s\n",
      "        30           0.7844            8.50s\n",
      "        40           0.7176            8.07s\n",
      "        50           0.6590            7.67s\n",
      "        60           0.6120            7.29s\n",
      "        70           0.5599            6.99s\n",
      "        80           0.5242            6.69s\n",
      "        90           0.4829            6.29s\n",
      "       100           0.4473            5.89s\n",
      "       200           0.2379            1.98s\n",
      "Got it\n"
     ]
    }
   ],
   "source": [
    "for lr in [1, 0.5, 0.3, 0.2, 0.1]:\n",
    "    estimator = GradientBoostingClassifier(n_estimators=250, verbose=True, random_state=241, learning_rate=lr)\n",
    "    estimator.fit(X_train, y_train)\n",
    "    proba_gen = estimator.staged_predict_proba(X_test)\n",
    "    pos_prob = [i[:, 1] for i in proba_gen] # get probs of positive class\n",
    "    loss_test[f\"Learning rate = {lr}\"] = [log_loss(y_test, probs) for probs in pos_prob]\n",
    "print(\"Got it\")"
   ],
   "metadata": {
    "collapsed": false,
    "pycharm": {
     "name": "#%%\n"
    }
   }
  },
  {
   "cell_type": "code",
   "execution_count": 17,
   "outputs": [
    {
     "data": {
      "text/plain": "<Figure size 432x288 with 1 Axes>",
      "image/png": "[encoded data removed]"
     },
     "metadata": {
      "needs_background": "light"
     },
     "output_type": "display_data"
    }
   ],
   "source": [
    "plt.figure()\n",
    "colors = {0 : \"red\", 1 : \"green\", 2 : \"blue\",3 : \"yellow\",4 : \"black\"}\n",
    "for i, (item, value) in enumerate(loss_train.items()):\n",
    "    plt.plot(value, c=colors[i], label=item)\n",
    "plt.title(\"Train set\")\n",
    "plt.legend( loc='upper right')\n",
    "plt.xlabel('Boosting Iterations')\n",
    "plt.ylabel('Log loss')\n",
    "plt.show()"
   ],
   "metadata": {
    "collapsed": false,
    "pycharm": {
     "name": "#%%\n"
    }
   }
  },
  {
   "cell_type": "code",
   "execution_count": 18,
   "outputs": [
    {
     "data": {
      "text/plain": "<Figure size 432x288 with 1 Axes>",
      "image/png": "[encoded data removed]"
     },
     "metadata": {
      "needs_background": "light"
     },
     "output_type": "display_data"
    }
   ],
   "source": [
    "plt.figure()\n",
    "colors = {0 : \"red\", 1 : \"green\", 2 : \"blue\",3 : \"yellow\",4 : \"black\"}\n",
    "for i, (item, value) in enumerate(loss_test.items()):\n",
    "    plt.plot(value, c=colors[i], label=item)\n",
    "plt.title(\"Test set\")\n",
    "plt.legend( loc='upper right')\n",
    "plt.xlabel('Boosting Iterations')\n",
    "plt.ylabel('Log loss')\n",
    "plt.show()"
   ],
   "metadata": {
    "collapsed": false,
    "pycharm": {
     "name": "#%%\n"
    }
   }
  },
  {
   "cell_type": "code",
   "execution_count": 10,
   "outputs": [
    {
     "name": "stdout",
     "output_type": "stream",
     "text": [
      "0.5301645204906471 36\n"
     ]
    }
   ],
   "source": [
    "min_ = 1000000\n",
    "index = 0\n",
    "for i, ll in enumerate(loss_test['Learning rate = 0.2']):\n",
    "    if ll < min_:\n",
    "        min_ = ll\n",
    "        index = i\n",
    "print(min_, index + 1)"
   ],
   "metadata": {
    "collapsed": false,
    "pycharm": {
     "name": "#%%\n"
    }
   }
  },
  {
   "cell_type": "code",
   "execution_count": 15,
   "outputs": [
    {
     "name": "stdout",
     "output_type": "stream",
     "text": [
      "      Iter       Train Loss   Remaining Time \n",
      "         1           1.3199            1.44s\n",
      "         2           1.2645            1.40s\n",
      "         3           1.2170            1.35s\n",
      "         4           1.1775            1.30s\n",
      "         5           1.1404            1.27s\n",
      "         6           1.1106            1.24s\n",
      "         7           1.0844            1.20s\n",
      "         8           1.0617            1.16s\n",
      "         9           1.0411            1.12s\n",
      "        10           1.0223            1.08s\n",
      "        20           0.8864            0.70s\n",
      "        30           0.7844            0.29s\n",
      "0.53\n"
     ]
    }
   ],
   "source": [
    "estimator = GradientBoostingClassifier(n_estimators=37, verbose=True, random_state=241)\n",
    "estimator.fit(X_train, y_train)\n",
    "pos_prob = estimator.predict_proba(X_test)[: , 1]\n",
    "ll = log_loss(y_test, pos_prob)\n",
    "print(round(ll,2))"
   ],
   "metadata": {
    "collapsed": false,
    "pycharm": {
     "name": "#%%\n"
    }
   }
  }
 ],
 "metadata": {
  "kernelspec": {
   "display_name": "Python 3",
   "language": "python",
   "name": "python3"
  },
  "language_info": {
   "codemirror_mode": {
    "name": "ipython",
    "version": 2
   },
   "file_extension": ".py",
   "mimetype": "text/x-python",
   "name": "python",
   "nbconvert_exporter": "python",
   "pygments_lexer": "ipython2",
   "version": "2.7.6"
  }
 },
 "nbformat": 4,
 "nbformat_minor": 0
}