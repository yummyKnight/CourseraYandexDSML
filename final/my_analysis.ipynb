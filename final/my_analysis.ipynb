{
 "cells": [
  {
   "cell_type": "code",
   "execution_count": 30,
   "metadata": {
    "collapsed": true
   },
   "outputs": [],
   "source": [
    "import pandas as pd\n",
    "import numpy as np\n",
    "from sklearn.ensemble import GradientBoostingClassifier\n",
    "from sklearn.linear_model import LogisticRegression\n",
    "from sklearn.model_selection import KFold, GridSearchCV, cross_val_score\n",
    "from sklearn.preprocessing import StandardScaler"
   ]
  },
  {
   "cell_type": "code",
   "execution_count": 3,
   "outputs": [
    {
     "data": {
      "text/plain": "          start_time  lobby_type  r1_hero  r1_level  r1_xp  r1_gold  r1_lh  \\\nmatch_id                                                                     \n0         1430198770           7       11         5   2098     1489     20   \n1         1430220345           0       42         4   1188     1033      9   \n2         1430227081           7       33         4   1319     1270     22   \n3         1430263531           1       29         4   1779     1056     14   \n4         1430282290           7       13         4   1431     1090      8   \n\n          r1_kills  r1_deaths  r1_items  ...  dire_boots_count  \\\nmatch_id                                 ...                     \n0                0          0         7  ...                 4   \n1                0          1        12  ...                 4   \n2                0          0        12  ...                 4   \n3                0          0         5  ...                 4   \n4                1          0         8  ...                 3   \n\n          dire_ward_observer_count  dire_ward_sentry_count  \\\nmatch_id                                                     \n0                                2                       2   \n1                                3                       1   \n2                                3                       1   \n3                                2                       0   \n4                                3                       0   \n\n          dire_first_ward_time  duration  radiant_win  tower_status_radiant  \\\nmatch_id                                                                      \n0                        -52.0      2874            1                  1796   \n1                         -5.0      2463            1                  1974   \n2                         13.0      2130            0                     0   \n3                         27.0      1459            0                  1920   \n4                        -16.0      2449            0                     4   \n\n          tower_status_dire  barracks_status_radiant  barracks_status_dire  \nmatch_id                                                                    \n0                         0                       51                     0  \n1                         0                       63                     1  \n2                      1830                        0                    63  \n3                      2047                       50                    63  \n4                      1974                        3                    63  \n\n[5 rows x 108 columns]",
      "text/html": "<div>\n<style scoped>\n    .dataframe tbody tr th:only-of-type {\n        vertical-align: middle;\n    }\n\n    .dataframe tbody tr th {\n        vertical-align: top;\n    }\n\n    .dataframe thead th {\n        text-align: right;\n    }\n</style>\n<table border=\"1\" class=\"dataframe\">\n  <thead>\n    <tr style=\"text-align: right;\">\n      <th></th>\n      <th>start_time</th>\n      <th>lobby_type</th>\n      <th>r1_hero</th>\n      <th>r1_level</th>\n      <th>r1_xp</th>\n      <th>r1_gold</th>\n      <th>r1_lh</th>\n      <th>r1_kills</th>\n      <th>r1_deaths</th>\n      <th>r1_items</th>\n      <th>...</th>\n      <th>dire_boots_count</th>\n      <th>dire_ward_observer_count</th>\n      <th>dire_ward_sentry_count</th>\n      <th>dire_first_ward_time</th>\n      <th>duration</th>\n      <th>radiant_win</th>\n      <th>tower_status_radiant</th>\n      <th>tower_status_dire</th>\n      <th>barracks_status_radiant</th>\n      <th>barracks_status_dire</th>\n    </tr>\n    <tr>\n      <th>match_id</th>\n      <th></th>\n      <th></th>\n      <th></th>\n      <th></th>\n      <th></th>\n      <th></th>\n      <th></th>\n      <th></th>\n      <th></th>\n      <th></th>\n      <th></th>\n      <th></th>\n      <th></th>\n      <th></th>\n      <th></th>\n      <th></th>\n      <th></th>\n      <th></th>\n      <th></th>\n      <th></th>\n      <th></th>\n    </tr>\n  </thead>\n  <tbody>\n    <tr>\n      <th>0</th>\n      <td>1430198770</td>\n      <td>7</td>\n      <td>11</td>\n      <td>5</td>\n      <td>2098</td>\n      <td>1489</td>\n      <td>20</td>\n      <td>0</td>\n      <td>0</td>\n      <td>7</td>\n      <td>...</td>\n      <td>4</td>\n      <td>2</td>\n      <td>2</td>\n      <td>-52.0</td>\n      <td>2874</td>\n      <td>1</td>\n      <td>1796</td>\n      <td>0</td>\n      <td>51</td>\n      <td>0</td>\n    </tr>\n    <tr>\n      <th>1</th>\n      <td>1430220345</td>\n      <td>0</td>\n      <td>42</td>\n      <td>4</td>\n      <td>1188</td>\n      <td>1033</td>\n      <td>9</td>\n      <td>0</td>\n      <td>1</td>\n      <td>12</td>\n      <td>...</td>\n      <td>4</td>\n      <td>3</td>\n      <td>1</td>\n      <td>-5.0</td>\n      <td>2463</td>\n      <td>1</td>\n      <td>1974</td>\n      <td>0</td>\n      <td>63</td>\n      <td>1</td>\n    </tr>\n    <tr>\n      <th>2</th>\n      <td>1430227081</td>\n      <td>7</td>\n      <td>33</td>\n      <td>4</td>\n      <td>1319</td>\n      <td>1270</td>\n      <td>22</td>\n      <td>0</td>\n      <td>0</td>\n      <td>12</td>\n      <td>...</td>\n      <td>4</td>\n      <td>3</td>\n      <td>1</td>\n      <td>13.0</td>\n      <td>2130</td>\n      <td>0</td>\n      <td>0</td>\n      <td>1830</td>\n      <td>0</td>\n      <td>63</td>\n    </tr>\n    <tr>\n      <th>3</th>\n      <td>1430263531</td>\n      <td>1</td>\n      <td>29</td>\n      <td>4</td>\n      <td>1779</td>\n      <td>1056</td>\n      <td>14</td>\n      <td>0</td>\n      <td>0</td>\n      <td>5</td>\n      <td>...</td>\n      <td>4</td>\n      <td>2</td>\n      <td>0</td>\n      <td>27.0</td>\n      <td>1459</td>\n      <td>0</td>\n      <td>1920</td>\n      <td>2047</td>\n      <td>50</td>\n      <td>63</td>\n    </tr>\n    <tr>\n      <th>4</th>\n      <td>1430282290</td>\n      <td>7</td>\n      <td>13</td>\n      <td>4</td>\n      <td>1431</td>\n      <td>1090</td>\n      <td>8</td>\n      <td>1</td>\n      <td>0</td>\n      <td>8</td>\n      <td>...</td>\n      <td>3</td>\n      <td>3</td>\n      <td>0</td>\n      <td>-16.0</td>\n      <td>2449</td>\n      <td>0</td>\n      <td>4</td>\n      <td>1974</td>\n      <td>3</td>\n      <td>63</td>\n    </tr>\n  </tbody>\n</table>\n<p>5 rows × 108 columns</p>\n</div>"
     },
     "execution_count": 3,
     "metadata": {},
     "output_type": "execute_result"
    }
   ],
   "source": [
    "# reading data\n",
    "features = pd.read_csv('features.csv', index_col='match_id')\n",
    "features.head()"
   ],
   "metadata": {
    "collapsed": false,
    "pycharm": {
     "name": "#%%\n"
    }
   }
  },
  {
   "cell_type": "code",
   "execution_count": 4,
   "outputs": [],
   "source": [
    "# drop unnecessary columns\n",
    "del_names = list(features.columns[102:])\n",
    "cleaned_features = features.drop(columns=del_names)"
   ],
   "metadata": {
    "collapsed": false,
    "pycharm": {
     "name": "#%%\n"
    }
   }
  },
  {
   "cell_type": "code",
   "execution_count": 36,
   "outputs": [
    {
     "data": {
      "text/plain": "          start_time  lobby_type  r1_hero  r1_level  r1_xp  r1_gold  r1_lh  \\\nmatch_id                                                                     \n0         1430198770           7       11         5   2098     1489     20   \n1         1430220345           0       42         4   1188     1033      9   \n2         1430227081           7       33         4   1319     1270     22   \n3         1430263531           1       29         4   1779     1056     14   \n4         1430282290           7       13         4   1431     1090      8   \n...              ...         ...      ...       ...    ...      ...    ...   \n114402    1450265551           1       47         4   1706     1198     17   \n114403    1450277704           0       43         4   1793     1416     17   \n114404    1450291848           1       98         4   1399      540      1   \n114405    1450292986           1      100         3   1135      766      6   \n114406    1450313370           7       50         3   1053      799      7   \n\n          r1_kills  r1_deaths  r1_items  ...  radiant_ward_sentry_count  \\\nmatch_id                                 ...                              \n0                0          0         7  ...                          0   \n1                0          1        12  ...                          0   \n2                0          0        12  ...                          1   \n3                0          0         5  ...                          0   \n4                1          0         8  ...                          0   \n...            ...        ...       ...  ...                        ...   \n114402           0          1         8  ...                          0   \n114403           0          1         5  ...                          0   \n114404           0          0         5  ...                          2   \n114405           0          2         6  ...                          0   \n114406           0          0         7  ...                          0   \n\n          radiant_first_ward_time  dire_bottle_time  dire_courier_time  \\\nmatch_id                                                                 \n0                            35.0             103.0              -84.0   \n1                           -20.0             149.0              -84.0   \n2                           -39.0              45.0              -77.0   \n3                           -30.0             124.0              -80.0   \n4                            46.0             182.0              -80.0   \n...                           ...               ...                ...   \n114402                      -29.0             180.0              -76.0   \n114403                       -5.0               0.0              -82.0   \n114404                      -32.0             249.0              -70.0   \n114405                      -21.0             254.0              -85.0   \n114406                      -36.0             131.0              -59.0   \n\n          dire_flying_courier_time  dire_tpscroll_count  dire_boots_count  \\\nmatch_id                                                                    \n0                            221.0                    3                 4   \n1                            195.0                    5                 4   \n2                            221.0                    3                 4   \n3                            184.0                    0                 4   \n4                            225.0                    6                 3   \n...                            ...                  ...               ...   \n114402                       180.0                    3                 4   \n114403                         0.0                    4                 3   \n114404                         0.0                    1                 1   \n114405                       183.0                    5                 3   \n114406                         0.0                    5                 3   \n\n          dire_ward_observer_count  dire_ward_sentry_count  \\\nmatch_id                                                     \n0                                2                       2   \n1                                3                       1   \n2                                3                       1   \n3                                2                       0   \n4                                3                       0   \n...                            ...                     ...   \n114402                           3                       0   \n114403                           2                       0   \n114404                           3                       1   \n114405                           3                       1   \n114406                           2                       0   \n\n          dire_first_ward_time  \nmatch_id                        \n0                        -52.0  \n1                         -5.0  \n2                         13.0  \n3                         27.0  \n4                        -16.0  \n...                        ...  \n114402                   -24.0  \n114403                   -17.0  \n114404                   -15.0  \n114405                   -42.0  \n114406                   -39.0  \n\n[97230 rows x 102 columns]",
      "text/html": "<div>\n<style scoped>\n    .dataframe tbody tr th:only-of-type {\n        vertical-align: middle;\n    }\n\n    .dataframe tbody tr th {\n        vertical-align: top;\n    }\n\n    .dataframe thead th {\n        text-align: right;\n    }\n</style>\n<table border=\"1\" class=\"dataframe\">\n  <thead>\n    <tr style=\"text-align: right;\">\n      <th></th>\n      <th>start_time</th>\n      <th>lobby_type</th>\n      <th>r1_hero</th>\n      <th>r1_level</th>\n      <th>r1_xp</th>\n      <th>r1_gold</th>\n      <th>r1_lh</th>\n      <th>r1_kills</th>\n      <th>r1_deaths</th>\n      <th>r1_items</th>\n      <th>...</th>\n      <th>radiant_ward_sentry_count</th>\n      <th>radiant_first_ward_time</th>\n      <th>dire_bottle_time</th>\n      <th>dire_courier_time</th>\n      <th>dire_flying_courier_time</th>\n      <th>dire_tpscroll_count</th>\n      <th>dire_boots_count</th>\n      <th>dire_ward_observer_count</th>\n      <th>dire_ward_sentry_count</th>\n      <th>dire_first_ward_time</th>\n    </tr>\n    <tr>\n      <th>match_id</th>\n      <th></th>\n      <th></th>\n      <th></th>\n      <th></th>\n      <th></th>\n      <th></th>\n      <th></th>\n      <th></th>\n      <th></th>\n      <th></th>\n      <th></th>\n      <th></th>\n      <th></th>\n      <th></th>\n      <th></th>\n      <th></th>\n      <th></th>\n      <th></th>\n      <th></th>\n      <th></th>\n      <th></th>\n    </tr>\n  </thead>\n  <tbody>\n    <tr>\n      <th>0</th>\n      <td>1430198770</td>\n      <td>7</td>\n      <td>11</td>\n      <td>5</td>\n      <td>2098</td>\n      <td>1489</td>\n      <td>20</td>\n      <td>0</td>\n      <td>0</td>\n      <td>7</td>\n      <td>...</td>\n      <td>0</td>\n      <td>35.0</td>\n      <td>103.0</td>\n      <td>-84.0</td>\n      <td>221.0</td>\n      <td>3</td>\n      <td>4</td>\n      <td>2</td>\n      <td>2</td>\n      <td>-52.0</td>\n    </tr>\n    <tr>\n      <th>1</th>\n      <td>1430220345</td>\n      <td>0</td>\n      <td>42</td>\n      <td>4</td>\n      <td>1188</td>\n      <td>1033</td>\n      <td>9</td>\n      <td>0</td>\n      <td>1</td>\n      <td>12</td>\n      <td>...</td>\n      <td>0</td>\n      <td>-20.0</td>\n      <td>149.0</td>\n      <td>-84.0</td>\n      <td>195.0</td>\n      <td>5</td>\n      <td>4</td>\n      <td>3</td>\n      <td>1</td>\n      <td>-5.0</td>\n    </tr>\n    <tr>\n      <th>2</th>\n      <td>1430227081</td>\n      <td>7</td>\n      <td>33</td>\n      <td>4</td>\n      <td>1319</td>\n      <td>1270</td>\n      <td>22</td>\n      <td>0</td>\n      <td>0</td>\n      <td>12</td>\n      <td>...</td>\n      <td>1</td>\n      <td>-39.0</td>\n      <td>45.0</td>\n      <td>-77.0</td>\n      <td>221.0</td>\n      <td>3</td>\n      <td>4</td>\n      <td>3</td>\n      <td>1</td>\n      <td>13.0</td>\n    </tr>\n    <tr>\n      <th>3</th>\n      <td>1430263531</td>\n      <td>1</td>\n      <td>29</td>\n      <td>4</td>\n      <td>1779</td>\n      <td>1056</td>\n      <td>14</td>\n      <td>0</td>\n      <td>0</td>\n      <td>5</td>\n      <td>...</td>\n      <td>0</td>\n      <td>-30.0</td>\n      <td>124.0</td>\n      <td>-80.0</td>\n      <td>184.0</td>\n      <td>0</td>\n      <td>4</td>\n      <td>2</td>\n      <td>0</td>\n      <td>27.0</td>\n    </tr>\n    <tr>\n      <th>4</th>\n      <td>1430282290</td>\n      <td>7</td>\n      <td>13</td>\n      <td>4</td>\n      <td>1431</td>\n      <td>1090</td>\n      <td>8</td>\n      <td>1</td>\n      <td>0</td>\n      <td>8</td>\n      <td>...</td>\n      <td>0</td>\n      <td>46.0</td>\n      <td>182.0</td>\n      <td>-80.0</td>\n      <td>225.0</td>\n      <td>6</td>\n      <td>3</td>\n      <td>3</td>\n      <td>0</td>\n      <td>-16.0</td>\n    </tr>\n    <tr>\n      <th>...</th>\n      <td>...</td>\n      <td>...</td>\n      <td>...</td>\n      <td>...</td>\n      <td>...</td>\n      <td>...</td>\n      <td>...</td>\n      <td>...</td>\n      <td>...</td>\n      <td>...</td>\n      <td>...</td>\n      <td>...</td>\n      <td>...</td>\n      <td>...</td>\n      <td>...</td>\n      <td>...</td>\n      <td>...</td>\n      <td>...</td>\n      <td>...</td>\n      <td>...</td>\n      <td>...</td>\n    </tr>\n    <tr>\n      <th>114402</th>\n      <td>1450265551</td>\n      <td>1</td>\n      <td>47</td>\n      <td>4</td>\n      <td>1706</td>\n      <td>1198</td>\n      <td>17</td>\n      <td>0</td>\n      <td>1</td>\n      <td>8</td>\n      <td>...</td>\n      <td>0</td>\n      <td>-29.0</td>\n      <td>180.0</td>\n      <td>-76.0</td>\n      <td>180.0</td>\n      <td>3</td>\n      <td>4</td>\n      <td>3</td>\n      <td>0</td>\n      <td>-24.0</td>\n    </tr>\n    <tr>\n      <th>114403</th>\n      <td>1450277704</td>\n      <td>0</td>\n      <td>43</td>\n      <td>4</td>\n      <td>1793</td>\n      <td>1416</td>\n      <td>17</td>\n      <td>0</td>\n      <td>1</td>\n      <td>5</td>\n      <td>...</td>\n      <td>0</td>\n      <td>-5.0</td>\n      <td>0.0</td>\n      <td>-82.0</td>\n      <td>0.0</td>\n      <td>4</td>\n      <td>3</td>\n      <td>2</td>\n      <td>0</td>\n      <td>-17.0</td>\n    </tr>\n    <tr>\n      <th>114404</th>\n      <td>1450291848</td>\n      <td>1</td>\n      <td>98</td>\n      <td>4</td>\n      <td>1399</td>\n      <td>540</td>\n      <td>1</td>\n      <td>0</td>\n      <td>0</td>\n      <td>5</td>\n      <td>...</td>\n      <td>2</td>\n      <td>-32.0</td>\n      <td>249.0</td>\n      <td>-70.0</td>\n      <td>0.0</td>\n      <td>1</td>\n      <td>1</td>\n      <td>3</td>\n      <td>1</td>\n      <td>-15.0</td>\n    </tr>\n    <tr>\n      <th>114405</th>\n      <td>1450292986</td>\n      <td>1</td>\n      <td>100</td>\n      <td>3</td>\n      <td>1135</td>\n      <td>766</td>\n      <td>6</td>\n      <td>0</td>\n      <td>2</td>\n      <td>6</td>\n      <td>...</td>\n      <td>0</td>\n      <td>-21.0</td>\n      <td>254.0</td>\n      <td>-85.0</td>\n      <td>183.0</td>\n      <td>5</td>\n      <td>3</td>\n      <td>3</td>\n      <td>1</td>\n      <td>-42.0</td>\n    </tr>\n    <tr>\n      <th>114406</th>\n      <td>1450313370</td>\n      <td>7</td>\n      <td>50</td>\n      <td>3</td>\n      <td>1053</td>\n      <td>799</td>\n      <td>7</td>\n      <td>0</td>\n      <td>0</td>\n      <td>7</td>\n      <td>...</td>\n      <td>0</td>\n      <td>-36.0</td>\n      <td>131.0</td>\n      <td>-59.0</td>\n      <td>0.0</td>\n      <td>5</td>\n      <td>3</td>\n      <td>2</td>\n      <td>0</td>\n      <td>-39.0</td>\n    </tr>\n  </tbody>\n</table>\n<p>97230 rows × 102 columns</p>\n</div>"
     },
     "execution_count": 36,
     "metadata": {},
     "output_type": "execute_result"
    }
   ],
   "source": [
    "cleaned_features"
   ],
   "metadata": {
    "collapsed": false,
    "pycharm": {
     "name": "#%%\n"
    }
   }
  },
  {
   "cell_type": "code",
   "execution_count": 5,
   "outputs": [
    {
     "name": "stdout",
     "output_type": "stream",
     "text": [
      "(97230, 102)\n"
     ]
    },
    {
     "data": {
      "text/plain": "Index(['first_blood_time', 'first_blood_team', 'first_blood_player1',\n       'first_blood_player2', 'radiant_bottle_time', 'radiant_courier_time',\n       'radiant_flying_courier_time', 'radiant_first_ward_time',\n       'dire_bottle_time', 'dire_courier_time', 'dire_flying_courier_time',\n       'dire_first_ward_time'],\n      dtype='object')"
     },
     "execution_count": 5,
     "metadata": {},
     "output_type": "execute_result"
    }
   ],
   "source": [
    "# show all columns what have NA\n",
    "print(cleaned_features.shape)\n",
    "cleaned_features.columns[cleaned_features.isna().any()]"
   ],
   "metadata": {
    "collapsed": false,
    "pycharm": {
     "name": "#%%\n"
    }
   }
  },
  {
   "cell_type": "code",
   "execution_count": 6,
   "outputs": [],
   "source": [
    "# fill na\n",
    "cleaned_features.fillna(0, inplace=True)"
   ],
   "metadata": {
    "collapsed": false,
    "pycharm": {
     "name": "#%%\n"
    }
   }
  },
  {
   "cell_type": "code",
   "execution_count": 7,
   "outputs": [
    {
     "data": {
      "text/plain": "(97230,)"
     },
     "execution_count": 7,
     "metadata": {},
     "output_type": "execute_result"
    }
   ],
   "source": [
    "# get target\n",
    "y = features[\"radiant_win\"]\n",
    "y.shape"
   ],
   "metadata": {
    "collapsed": false,
    "pycharm": {
     "name": "#%%\n"
    }
   }
  },
  {
   "cell_type": "code",
   "execution_count": 33,
   "outputs": [
    {
     "name": "stdout",
     "output_type": "stream",
     "text": [
      "Time elapsed: 0:00:27.305896\n"
     ]
    }
   ],
   "source": [
    "# time measuring for gbc with n_estim = 30\n",
    "import datetime\n",
    "start_time = datetime.datetime.now()\n",
    "estimator = GradientBoostingClassifier(n_estimators = 30, random_state=241)\n",
    "cv = KFold(n_splits=5, shuffle=True, random_state=241)\n",
    "scores : np.ndarray = cross_val_score(estimator, cleaned_features, y, cv=cv, scoring='roc_auc', n_jobs=6)\n",
    "print('Time elapsed:', datetime.datetime.now() - start_time)"
   ],
   "metadata": {
    "collapsed": false,
    "pycharm": {
     "name": "#%%\n"
    }
   }
  },
  {
   "cell_type": "code",
   "execution_count": 32,
   "outputs": [
    {
     "data": {
      "text/plain": "0.6894962060591201"
     },
     "execution_count": 32,
     "metadata": {},
     "output_type": "execute_result"
    }
   ],
   "source": [
    "np.mean(scores)"
   ],
   "metadata": {
    "collapsed": false,
    "pycharm": {
     "name": "#%%\n"
    }
   }
  },
  {
   "cell_type": "code",
   "execution_count": null,
   "outputs": [],
   "source": [
    "# Gradient boosting\n",
    "estimator = GradientBoostingClassifier(random_state=241)\n",
    "grid = {'n_estimators': [10,20,30,50,100,250,500,1000]}\n",
    "cv = KFold(n_splits=5, shuffle=True, random_state=241)\n",
    "gs = GridSearchCV(estimator, grid, scoring='roc_auc', cv=cv, n_jobs=5, verbose=2)\n",
    "gs.fit(cleaned_features, y)"
   ],
   "metadata": {
    "collapsed": false,
    "pycharm": {
     "name": "#%%\n"
    }
   }
  },
  {
   "cell_type": "code",
   "execution_count": null,
   "outputs": [],
   "source": [
    "print(gs.refit_time_)\n",
    "gs.cv_results_\n",
    "# построить auc_roc кривую"
   ],
   "metadata": {
    "collapsed": false,
    "pycharm": {
     "name": "#%%\n"
    }
   }
  },
  {
   "cell_type": "code",
   "execution_count": null,
   "outputs": [],
   "source": [
    "# pickle время обучения особенно для  250+ деревьев очень большее, поэтому сохранил результаты\n",
    "import pickle\n",
    "with open(\"GridSearchCVRes.pke\", \"wb\") as file:\n",
    "    pickle.dump(gs.cv_results_, file)\n"
   ],
   "metadata": {
    "collapsed": false,
    "pycharm": {
     "name": "#%%\n"
    }
   }
  },
  {
   "cell_type": "code",
   "execution_count": 29,
   "outputs": [
    {
     "data": {
      "text/plain": "{'mean_fit_time': array([  9.21736441,  17.84624658,  27.96699753,  44.24265404,\n         88.46375165, 225.10763593, 440.33314815, 870.28321495]),\n 'std_fit_time': array([0.05226558, 0.08429548, 0.17390375, 0.13187592, 0.20933647,\n        0.49959129, 0.66563284, 0.75508801]),\n 'mean_score_time': array([0.03353109, 0.0478457 , 0.04924455, 0.05858755, 0.10749722,\n        0.19126191, 0.36572323, 0.45672092]),\n 'std_score_time': array([0.00415098, 0.00588132, 0.00621455, 0.006211  , 0.01124598,\n        0.02490546, 0.05073779, 0.1020913 ]),\n 'param_n_estimators': masked_array(data=[10, 20, 30, 50, 100, 250, 500, 1000],\n              mask=[False, False, False, False, False, False, False, False],\n        fill_value='?',\n             dtype=object),\n 'params': [{'n_estimators': 10},\n  {'n_estimators': 20},\n  {'n_estimators': 30},\n  {'n_estimators': 50},\n  {'n_estimators': 100},\n  {'n_estimators': 250},\n  {'n_estimators': 500},\n  {'n_estimators': 1000}],\n 'split0_test_score': array([0.66943496, 0.68939011, 0.69641668, 0.70382382, 0.71211028,\n        0.72079812, 0.72515377, 0.72765981]),\n 'split1_test_score': array([0.65627754, 0.67567277, 0.68365441, 0.69325852, 0.70275727,\n        0.71236846, 0.71709513, 0.72019736]),\n 'split2_test_score': array([0.66390454, 0.68201026, 0.68731862, 0.69452532, 0.70340522,\n        0.71333035, 0.71832811, 0.72181613]),\n 'split3_test_score': array([0.66281223, 0.67977584, 0.68728458, 0.69565719, 0.70450889,\n        0.7139089 , 0.71928292, 0.72242428]),\n 'split4_test_score': array([0.66950933, 0.68741889, 0.69280674, 0.7000093 , 0.70884943,\n        0.71781337, 0.72285281, 0.72606899]),\n 'mean_test_score': array([0.66438772, 0.68285357, 0.68949621, 0.69745483, 0.70632622,\n        0.71564384, 0.72054255, 0.72363331]),\n 'std_test_score': array([0.00490298, 0.00500632, 0.00453017, 0.00391182, 0.00358871,\n        0.00317376, 0.00299919, 0.00278262]),\n 'rank_test_score': array([8, 7, 6, 5, 4, 3, 2, 1])}"
     },
     "execution_count": 29,
     "metadata": {},
     "output_type": "execute_result"
    }
   ],
   "source": [
    "import pickle\n",
    "with open(\"GridSearchCVRes.pke\", \"rb\") as file:\n",
    "    gs_gbc = pickle.load(file)\n",
    "print(gs_gbc.best)\n",
    "gs_gbc\n",
    "# ~0.7 наилучший результат бустинга при условии адекватного времени обучения"
   ],
   "metadata": {
    "collapsed": false,
    "pycharm": {
     "name": "#%%\n"
    }
   }
  },
  {
   "cell_type": "code",
   "execution_count": 10,
   "outputs": [],
   "source": [
    "scaler = StandardScaler()\n",
    "scaled_cleaned_features = scaler.fit_transform(cleaned_features)"
   ],
   "metadata": {
    "collapsed": false,
    "pycharm": {
     "name": "#%%\n"
    }
   }
  },
  {
   "cell_type": "code",
   "execution_count": 11,
   "outputs": [
    {
     "name": "stdout",
     "output_type": "stream",
     "text": [
      "Fitting 5 folds for each of 10 candidates, totalling 50 fits\n"
     ]
    },
    {
     "name": "stderr",
     "output_type": "stream",
     "text": [
      "[Parallel(n_jobs=6)]: Using backend LokyBackend with 6 concurrent workers.\n",
      "[Parallel(n_jobs=6)]: Done  29 tasks      | elapsed:    9.7s\n",
      "[Parallel(n_jobs=6)]: Done  50 out of  50 | elapsed:   15.5s finished\n"
     ]
    },
    {
     "data": {
      "text/plain": "GridSearchCV(cv=KFold(n_splits=5, random_state=241, shuffle=True),\n             estimator=LogisticRegression(multi_class='ovr', random_state=241),\n             n_jobs=6,\n             param_grid={'C': [0.001, 0.01, 0.05, 0.1, 0.2, 0.5, 1, 3, 5, 10]},\n             scoring='roc_auc', verbose=2)"
     },
     "execution_count": 11,
     "metadata": {},
     "output_type": "execute_result"
    }
   ],
   "source": [
    "estimator = LogisticRegression(random_state=241, multi_class=\"ovr\")\n",
    "grid = {'C': [0.001,0.01, 0.05,0.1,0.2,0.5,1,3,5,10] }\n",
    "cv = KFold(n_splits=5, shuffle=True, random_state=241)\n",
    "gs_l = GridSearchCV(estimator, grid, scoring='roc_auc', cv=cv, n_jobs=6, verbose=2)\n",
    "gs_l.fit(scaled_cleaned_features, y)"
   ],
   "metadata": {
    "collapsed": false,
    "pycharm": {
     "name": "#%%\n"
    }
   }
  },
  {
   "cell_type": "code",
   "execution_count": 12,
   "outputs": [
    {
     "name": "stdout",
     "output_type": "stream",
     "text": [
      "0.7163420915422014\n",
      "{'C': 0.01}\n"
     ]
    },
    {
     "data": {
      "text/plain": "{'mean_fit_time': array([1.15965695, 1.54120436, 1.64649744, 1.69754543, 1.64989977,\n        1.74578643, 1.69273906, 1.64129176, 1.65030131, 1.35222783]),\n 'std_fit_time': array([0.03183722, 0.10003086, 0.12635136, 0.07209735, 0.0885976 ,\n        0.05778761, 0.07656041, 0.09752731, 0.06262532, 0.32431654]),\n 'mean_score_time': array([0.01761732, 0.01821671, 0.01721687, 0.0168149 , 0.0166142 ,\n        0.01841583, 0.0182158 , 0.01701598, 0.01581435, 0.01121044]),\n 'std_score_time': array([0.00273071, 0.00354575, 0.00222913, 0.00256273, 0.00294078,\n        0.00257941, 0.00312743, 0.00219243, 0.00160081, 0.00183516]),\n 'param_C': masked_array(data=[0.001, 0.01, 0.05, 0.1, 0.2, 0.5, 1, 3, 5, 10],\n              mask=[False, False, False, False, False, False, False, False,\n                    False, False],\n        fill_value='?',\n             dtype=object),\n 'params': [{'C': 0.001},\n  {'C': 0.01},\n  {'C': 0.05},\n  {'C': 0.1},\n  {'C': 0.2},\n  {'C': 0.5},\n  {'C': 1},\n  {'C': 3},\n  {'C': 5},\n  {'C': 10}],\n 'split0_test_score': array([0.72134691, 0.72166336, 0.72166291, 0.72165999, 0.72165945,\n        0.72165909, 0.72165968, 0.72165901, 0.72165862, 0.72165847]),\n 'split1_test_score': array([0.71368543, 0.71377455, 0.71371192, 0.71370262, 0.71369733,\n        0.71369546, 0.71369426, 0.71369358, 0.7136938 , 0.71369387]),\n 'split2_test_score': array([0.7142503 , 0.7144095 , 0.71439273, 0.71439004, 0.71438815,\n        0.71438554, 0.71438569, 0.71438537, 0.71438511, 0.71438513]),\n 'split3_test_score': array([0.71511826, 0.7154027 , 0.71539985, 0.71539378, 0.7153926 ,\n        0.71539451, 0.71539326, 0.71539416, 0.71539469, 0.71539504]),\n 'split4_test_score': array([0.716496  , 0.71646035, 0.71641352, 0.71640597, 0.71640276,\n        0.71639903, 0.71640028, 0.71640104, 0.71640097, 0.71639887]),\n 'mean_test_score': array([0.71617938, 0.71634209, 0.71631619, 0.71631048, 0.71630806,\n        0.71630673, 0.71630663, 0.71630663, 0.71630664, 0.71630627]),\n 'std_test_score': array([0.00275212, 0.0028121 , 0.00282554, 0.00282686, 0.00282795,\n        0.00282836, 0.00282887, 0.00282874, 0.00282855, 0.00282844]),\n 'rank_test_score': array([10,  1,  2,  3,  4,  5,  7,  8,  6,  9])}"
     },
     "execution_count": 12,
     "metadata": {},
     "output_type": "execute_result"
    }
   ],
   "source": [
    "# Logic regression without deleting categorical features\n",
    "print(gs_l.best_score_)\n",
    "print(gs_l.best_params_)\n",
    "gs_l.cv_results_"
   ],
   "metadata": {
    "collapsed": false,
    "pycharm": {
     "name": "#%%\n"
    }
   }
  },
  {
   "cell_type": "code",
   "execution_count": 13,
   "outputs": [
    {
     "data": {
      "text/plain": "          start_time  r1_level  r1_xp  r1_gold  r1_lh  r1_kills  r1_deaths  \\\nmatch_id                                                                     \n0         1430198770         5   2098     1489     20         0          0   \n1         1430220345         4   1188     1033      9         0          1   \n2         1430227081         4   1319     1270     22         0          0   \n3         1430263531         4   1779     1056     14         0          0   \n4         1430282290         4   1431     1090      8         1          0   \n...              ...       ...    ...      ...    ...       ...        ...   \n114402    1450265551         4   1706     1198     17         0          1   \n114403    1450277704         4   1793     1416     17         0          1   \n114404    1450291848         4   1399      540      1         0          0   \n114405    1450292986         3   1135      766      6         0          2   \n114406    1450313370         3   1053      799      7         0          0   \n\n          r1_items  r2_level  r2_xp  ...  radiant_ward_sentry_count  \\\nmatch_id                             ...                              \n0                7         3    842  ...                          0   \n1               12         4   1596  ...                          0   \n2               12         3   1314  ...                          1   \n3                5         2    539  ...                          0   \n4                8         2    629  ...                          0   \n...            ...       ...    ...  ...                        ...   \n114402           8         2    616  ...                          0   \n114403           5         3    764  ...                          0   \n114404           5         4   1448  ...                          2   \n114405           6         5   1954  ...                          0   \n114406           7         5   2097  ...                          0   \n\n          radiant_first_ward_time  dire_bottle_time  dire_courier_time  \\\nmatch_id                                                                 \n0                            35.0             103.0              -84.0   \n1                           -20.0             149.0              -84.0   \n2                           -39.0              45.0              -77.0   \n3                           -30.0             124.0              -80.0   \n4                            46.0             182.0              -80.0   \n...                           ...               ...                ...   \n114402                      -29.0             180.0              -76.0   \n114403                       -5.0               0.0              -82.0   \n114404                      -32.0             249.0              -70.0   \n114405                      -21.0             254.0              -85.0   \n114406                      -36.0             131.0              -59.0   \n\n          dire_flying_courier_time  dire_tpscroll_count  dire_boots_count  \\\nmatch_id                                                                    \n0                            221.0                    3                 4   \n1                            195.0                    5                 4   \n2                            221.0                    3                 4   \n3                            184.0                    0                 4   \n4                            225.0                    6                 3   \n...                            ...                  ...               ...   \n114402                       180.0                    3                 4   \n114403                         0.0                    4                 3   \n114404                         0.0                    1                 1   \n114405                       183.0                    5                 3   \n114406                         0.0                    5                 3   \n\n          dire_ward_observer_count  dire_ward_sentry_count  \\\nmatch_id                                                     \n0                                2                       2   \n1                                3                       1   \n2                                3                       1   \n3                                2                       0   \n4                                3                       0   \n...                            ...                     ...   \n114402                           3                       0   \n114403                           2                       0   \n114404                           3                       1   \n114405                           3                       1   \n114406                           2                       0   \n\n          dire_first_ward_time  \nmatch_id                        \n0                        -52.0  \n1                         -5.0  \n2                         13.0  \n3                         27.0  \n4                        -16.0  \n...                        ...  \n114402                   -24.0  \n114403                   -17.0  \n114404                   -15.0  \n114405                   -42.0  \n114406                   -39.0  \n\n[97230 rows x 91 columns]",
      "text/html": "<div>\n<style scoped>\n    .dataframe tbody tr th:only-of-type {\n        vertical-align: middle;\n    }\n\n    .dataframe tbody tr th {\n        vertical-align: top;\n    }\n\n    .dataframe thead th {\n        text-align: right;\n    }\n</style>\n<table border=\"1\" class=\"dataframe\">\n  <thead>\n    <tr style=\"text-align: right;\">\n      <th></th>\n      <th>start_time</th>\n      <th>r1_level</th>\n      <th>r1_xp</th>\n      <th>r1_gold</th>\n      <th>r1_lh</th>\n      <th>r1_kills</th>\n      <th>r1_deaths</th>\n      <th>r1_items</th>\n      <th>r2_level</th>\n      <th>r2_xp</th>\n      <th>...</th>\n      <th>radiant_ward_sentry_count</th>\n      <th>radiant_first_ward_time</th>\n      <th>dire_bottle_time</th>\n      <th>dire_courier_time</th>\n      <th>dire_flying_courier_time</th>\n      <th>dire_tpscroll_count</th>\n      <th>dire_boots_count</th>\n      <th>dire_ward_observer_count</th>\n      <th>dire_ward_sentry_count</th>\n      <th>dire_first_ward_time</th>\n    </tr>\n    <tr>\n      <th>match_id</th>\n      <th></th>\n      <th></th>\n      <th></th>\n      <th></th>\n      <th></th>\n      <th></th>\n      <th></th>\n      <th></th>\n      <th></th>\n      <th></th>\n      <th></th>\n      <th></th>\n      <th></th>\n      <th></th>\n      <th></th>\n      <th></th>\n      <th></th>\n      <th></th>\n      <th></th>\n      <th></th>\n      <th></th>\n    </tr>\n  </thead>\n  <tbody>\n    <tr>\n      <th>0</th>\n      <td>1430198770</td>\n      <td>5</td>\n      <td>2098</td>\n      <td>1489</td>\n      <td>20</td>\n      <td>0</td>\n      <td>0</td>\n      <td>7</td>\n      <td>3</td>\n      <td>842</td>\n      <td>...</td>\n      <td>0</td>\n      <td>35.0</td>\n      <td>103.0</td>\n      <td>-84.0</td>\n      <td>221.0</td>\n      <td>3</td>\n      <td>4</td>\n      <td>2</td>\n      <td>2</td>\n      <td>-52.0</td>\n    </tr>\n    <tr>\n      <th>1</th>\n      <td>1430220345</td>\n      <td>4</td>\n      <td>1188</td>\n      <td>1033</td>\n      <td>9</td>\n      <td>0</td>\n      <td>1</td>\n      <td>12</td>\n      <td>4</td>\n      <td>1596</td>\n      <td>...</td>\n      <td>0</td>\n      <td>-20.0</td>\n      <td>149.0</td>\n      <td>-84.0</td>\n      <td>195.0</td>\n      <td>5</td>\n      <td>4</td>\n      <td>3</td>\n      <td>1</td>\n      <td>-5.0</td>\n    </tr>\n    <tr>\n      <th>2</th>\n      <td>1430227081</td>\n      <td>4</td>\n      <td>1319</td>\n      <td>1270</td>\n      <td>22</td>\n      <td>0</td>\n      <td>0</td>\n      <td>12</td>\n      <td>3</td>\n      <td>1314</td>\n      <td>...</td>\n      <td>1</td>\n      <td>-39.0</td>\n      <td>45.0</td>\n      <td>-77.0</td>\n      <td>221.0</td>\n      <td>3</td>\n      <td>4</td>\n      <td>3</td>\n      <td>1</td>\n      <td>13.0</td>\n    </tr>\n    <tr>\n      <th>3</th>\n      <td>1430263531</td>\n      <td>4</td>\n      <td>1779</td>\n      <td>1056</td>\n      <td>14</td>\n      <td>0</td>\n      <td>0</td>\n      <td>5</td>\n      <td>2</td>\n      <td>539</td>\n      <td>...</td>\n      <td>0</td>\n      <td>-30.0</td>\n      <td>124.0</td>\n      <td>-80.0</td>\n      <td>184.0</td>\n      <td>0</td>\n      <td>4</td>\n      <td>2</td>\n      <td>0</td>\n      <td>27.0</td>\n    </tr>\n    <tr>\n      <th>4</th>\n      <td>1430282290</td>\n      <td>4</td>\n      <td>1431</td>\n      <td>1090</td>\n      <td>8</td>\n      <td>1</td>\n      <td>0</td>\n      <td>8</td>\n      <td>2</td>\n      <td>629</td>\n      <td>...</td>\n      <td>0</td>\n      <td>46.0</td>\n      <td>182.0</td>\n      <td>-80.0</td>\n      <td>225.0</td>\n      <td>6</td>\n      <td>3</td>\n      <td>3</td>\n      <td>0</td>\n      <td>-16.0</td>\n    </tr>\n    <tr>\n      <th>...</th>\n      <td>...</td>\n      <td>...</td>\n      <td>...</td>\n      <td>...</td>\n      <td>...</td>\n      <td>...</td>\n      <td>...</td>\n      <td>...</td>\n      <td>...</td>\n      <td>...</td>\n      <td>...</td>\n      <td>...</td>\n      <td>...</td>\n      <td>...</td>\n      <td>...</td>\n      <td>...</td>\n      <td>...</td>\n      <td>...</td>\n      <td>...</td>\n      <td>...</td>\n      <td>...</td>\n    </tr>\n    <tr>\n      <th>114402</th>\n      <td>1450265551</td>\n      <td>4</td>\n      <td>1706</td>\n      <td>1198</td>\n      <td>17</td>\n      <td>0</td>\n      <td>1</td>\n      <td>8</td>\n      <td>2</td>\n      <td>616</td>\n      <td>...</td>\n      <td>0</td>\n      <td>-29.0</td>\n      <td>180.0</td>\n      <td>-76.0</td>\n      <td>180.0</td>\n      <td>3</td>\n      <td>4</td>\n      <td>3</td>\n      <td>0</td>\n      <td>-24.0</td>\n    </tr>\n    <tr>\n      <th>114403</th>\n      <td>1450277704</td>\n      <td>4</td>\n      <td>1793</td>\n      <td>1416</td>\n      <td>17</td>\n      <td>0</td>\n      <td>1</td>\n      <td>5</td>\n      <td>3</td>\n      <td>764</td>\n      <td>...</td>\n      <td>0</td>\n      <td>-5.0</td>\n      <td>0.0</td>\n      <td>-82.0</td>\n      <td>0.0</td>\n      <td>4</td>\n      <td>3</td>\n      <td>2</td>\n      <td>0</td>\n      <td>-17.0</td>\n    </tr>\n    <tr>\n      <th>114404</th>\n      <td>1450291848</td>\n      <td>4</td>\n      <td>1399</td>\n      <td>540</td>\n      <td>1</td>\n      <td>0</td>\n      <td>0</td>\n      <td>5</td>\n      <td>4</td>\n      <td>1448</td>\n      <td>...</td>\n      <td>2</td>\n      <td>-32.0</td>\n      <td>249.0</td>\n      <td>-70.0</td>\n      <td>0.0</td>\n      <td>1</td>\n      <td>1</td>\n      <td>3</td>\n      <td>1</td>\n      <td>-15.0</td>\n    </tr>\n    <tr>\n      <th>114405</th>\n      <td>1450292986</td>\n      <td>3</td>\n      <td>1135</td>\n      <td>766</td>\n      <td>6</td>\n      <td>0</td>\n      <td>2</td>\n      <td>6</td>\n      <td>5</td>\n      <td>1954</td>\n      <td>...</td>\n      <td>0</td>\n      <td>-21.0</td>\n      <td>254.0</td>\n      <td>-85.0</td>\n      <td>183.0</td>\n      <td>5</td>\n      <td>3</td>\n      <td>3</td>\n      <td>1</td>\n      <td>-42.0</td>\n    </tr>\n    <tr>\n      <th>114406</th>\n      <td>1450313370</td>\n      <td>3</td>\n      <td>1053</td>\n      <td>799</td>\n      <td>7</td>\n      <td>0</td>\n      <td>0</td>\n      <td>7</td>\n      <td>5</td>\n      <td>2097</td>\n      <td>...</td>\n      <td>0</td>\n      <td>-36.0</td>\n      <td>131.0</td>\n      <td>-59.0</td>\n      <td>0.0</td>\n      <td>5</td>\n      <td>3</td>\n      <td>2</td>\n      <td>0</td>\n      <td>-39.0</td>\n    </tr>\n  </tbody>\n</table>\n<p>97230 rows × 91 columns</p>\n</div>"
     },
     "execution_count": 13,
     "metadata": {},
     "output_type": "execute_result"
    }
   ],
   "source": [
    "# deleting categ features\n",
    "categ_columns = cleaned_features.columns.str.contains(\"hero|lobby_type\",regex=True)\n",
    "del_names = cleaned_features.columns[categ_columns]\n",
    "no_categ_features = cleaned_features.drop(columns=del_names)\n",
    "scaler_1 = StandardScaler()\n",
    "scaled_no_categ_features = scaler_1.fit_transform(no_categ_features)\n",
    "no_categ_features"
   ],
   "metadata": {
    "collapsed": false,
    "pycharm": {
     "name": "#%%\n"
    }
   }
  },
  {
   "cell_type": "code",
   "execution_count": 14,
   "outputs": [
    {
     "data": {
      "text/plain": "array([[-2.54436416,  1.40080818,  1.52597175, ..., -0.55115386,\n         1.84600409, -1.12149424],\n       [-2.54045236,  0.50131354, -0.08013929, ...,  0.67817009,\n         0.43778816,  0.04394713],\n       [-2.53923104,  0.50131354,  0.1510701 , ...,  0.67817009,\n         0.43778816,  0.49028637],\n       ...,\n       [ 1.09874571,  0.50131354,  0.29226667, ...,  0.67817009,\n         0.43778816, -0.20401912],\n       [ 1.09895204, -0.39818111, -0.17368203, ...,  0.67817009,\n         0.43778816, -0.87352799],\n       [ 1.1026479 , -0.39818111, -0.31840851, ..., -0.55115386,\n        -0.97042777, -0.79913812]])"
     },
     "execution_count": 14,
     "metadata": {},
     "output_type": "execute_result"
    }
   ],
   "source": [
    "scaled_no_categ_features"
   ],
   "metadata": {
    "collapsed": false,
    "pycharm": {
     "name": "#%%\n"
    }
   }
  },
  {
   "cell_type": "code",
   "execution_count": 15,
   "outputs": [
    {
     "name": "stdout",
     "output_type": "stream",
     "text": [
      "Fitting 5 folds for each of 10 candidates, totalling 50 fits\n"
     ]
    },
    {
     "name": "stderr",
     "output_type": "stream",
     "text": [
      "[Parallel(n_jobs=6)]: Using backend LokyBackend with 6 concurrent workers.\n",
      "[Parallel(n_jobs=6)]: Done  29 tasks      | elapsed:    7.2s\n",
      "[Parallel(n_jobs=6)]: Done  50 out of  50 | elapsed:   12.9s finished\n"
     ]
    },
    {
     "data": {
      "text/plain": "GridSearchCV(cv=KFold(n_splits=5, random_state=241, shuffle=True),\n             estimator=LogisticRegression(multi_class='ovr', random_state=241),\n             n_jobs=6,\n             param_grid={'C': [0.001, 0.01, 0.05, 0.1, 0.2, 0.5, 1, 3, 5, 10]},\n             scoring='roc_auc', verbose=2)"
     },
     "execution_count": 15,
     "metadata": {},
     "output_type": "execute_result"
    }
   ],
   "source": [
    "# Logic regression with deleting categorical features\n",
    "estimator = LogisticRegression(random_state=241, multi_class=\"ovr\")\n",
    "grid = {'C': [0.001,0.01, 0.05,0.1,0.2,0.5,1,3,5,10] }\n",
    "cv = KFold(n_splits=5, shuffle=True, random_state=241)\n",
    "gs_no_categ = GridSearchCV(estimator, grid, scoring='roc_auc', cv=cv, n_jobs=6, verbose=2)\n",
    "gs_no_categ.fit(scaled_no_categ_features, y)"
   ],
   "metadata": {
    "collapsed": false,
    "pycharm": {
     "name": "#%%\n"
    }
   }
  },
  {
   "cell_type": "code",
   "execution_count": 16,
   "outputs": [
    {
     "name": "stdout",
     "output_type": "stream",
     "text": [
      "0.7164004932889204\n",
      "{'C': 0.01}\n"
     ]
    },
    {
     "data": {
      "text/plain": "{'mean_fit_time': array([0.99450741, 1.37665343, 1.41128402, 1.43350406, 1.45132046,\n        1.56281977, 1.52018313, 1.60365882, 1.63748779, 1.30878868]),\n 'std_fit_time': array([0.02671251, 0.06627467, 0.08225645, 0.06093712, 0.04456034,\n        0.09180929, 0.02469835, 0.05866648, 0.07695161, 0.32342439]),\n 'mean_score_time': array([0.01421175, 0.01541438, 0.01280975, 0.01541295, 0.01681457,\n        0.01521506, 0.01441312, 0.01561475, 0.01781588, 0.01241097]),\n 'std_score_time': array([0.00194123, 0.00307576, 0.00116589, 0.00149904, 0.00213826,\n        0.00343209, 0.00102059, 0.00080049, 0.00387172, 0.00361477]),\n 'param_C': masked_array(data=[0.001, 0.01, 0.05, 0.1, 0.2, 0.5, 1, 3, 5, 10],\n              mask=[False, False, False, False, False, False, False, False,\n                    False, False],\n        fill_value='?',\n             dtype=object),\n 'params': [{'C': 0.001},\n  {'C': 0.01},\n  {'C': 0.05},\n  {'C': 0.1},\n  {'C': 0.2},\n  {'C': 0.5},\n  {'C': 1},\n  {'C': 3},\n  {'C': 5},\n  {'C': 10}],\n 'split0_test_score': array([0.72152485, 0.72181625, 0.72181447, 0.72181202, 0.72181095,\n        0.72181116, 0.72181077, 0.72181142, 0.72181126, 0.72181106]),\n 'split1_test_score': array([0.7136096 , 0.71370029, 0.7136459 , 0.71363853, 0.71363278,\n        0.71363039, 0.71362888, 0.71362811, 0.71362807, 0.71362799]),\n 'split2_test_score': array([0.7144559 , 0.71462426, 0.7146138 , 0.71460838, 0.71460769,\n        0.71460858, 0.7146083 , 0.71460873, 0.71460892, 0.71460898]),\n 'split3_test_score': array([0.71521473, 0.71551483, 0.71551059, 0.71550902, 0.71550935,\n        0.71551046, 0.71551056, 0.71551037, 0.71550995, 0.7155093 ]),\n 'split4_test_score': array([0.71636923, 0.71634683, 0.71630642, 0.71630481, 0.71629954,\n        0.71629746, 0.71629626, 0.71629608, 0.71629482, 0.71629678]),\n 'mean_test_score': array([0.71623486, 0.71640049, 0.71637824, 0.71637455, 0.71637206,\n        0.71637161, 0.71637095, 0.71637094, 0.7163706 , 0.71637082]),\n 'std_test_score': array([0.0027964 , 0.00284829, 0.0028597 , 0.00286095, 0.00286174,\n        0.00286211, 0.00286229, 0.00286264, 0.00286259, 0.00286255]),\n 'rank_test_score': array([10,  1,  2,  3,  4,  5,  6,  7,  9,  8])}"
     },
     "execution_count": 16,
     "metadata": {},
     "output_type": "execute_result"
    }
   ],
   "source": [
    "print(gs_no_categ.best_score_)\n",
    "print(gs_no_categ.best_params_)\n",
    "gs_no_categ.cv_results_\n"
   ],
   "metadata": {
    "collapsed": false,
    "pycharm": {
     "name": "#%%\n"
    }
   }
  },
  {
   "cell_type": "code",
   "execution_count": 17,
   "outputs": [
    {
     "data": {
      "text/plain": "array([  1,   2,   3,   4,   5,   6,   7,   8,   9,  10,  11,  12,  13,\n        14,  15,  16,  17,  18,  19,  20,  21,  22,  23,  25,  26,  27,\n        28,  29,  30,  31,  32,  33,  34,  35,  36,  37,  38,  39,  40,\n        41,  42,  43,  44,  45,  46,  47,  48,  49,  50,  51,  52,  53,\n        54,  55,  56,  57,  58,  59,  60,  61,  62,  63,  64,  65,  66,\n        67,  68,  69,  70,  71,  72,  73,  74,  75,  76,  77,  78,  79,\n        80,  81,  82,  83,  84,  85,  86,  87,  88,  89,  90,  91,  92,\n        93,  94,  95,  96,  97,  98,  99, 100, 101, 102, 103, 104, 105,\n       106, 109, 110, 112], dtype=int64)"
     },
     "execution_count": 17,
     "metadata": {},
     "output_type": "execute_result"
    }
   ],
   "source": [
    "# checking amount of unique heroes in train set\n",
    "hero_columns = cleaned_features.columns.str.contains(\"hero\",regex=True)\n",
    "hero_values = cleaned_features.loc[:, cleaned_features.columns[hero_columns]].values.copy()\n",
    "hero_unique_id = np.unique(hero_values.flatten())\n",
    "hero_unique_id"
   ],
   "metadata": {
    "collapsed": false,
    "pycharm": {
     "name": "#%%\n"
    }
   }
  },
  {
   "cell_type": "code",
   "execution_count": 18,
   "outputs": [
    {
     "data": {
      "text/plain": "(108,)"
     },
     "execution_count": 18,
     "metadata": {},
     "output_type": "execute_result"
    }
   ],
   "source": [
    "hero_unique_id.shape\n"
   ],
   "metadata": {
    "collapsed": false,
    "pycharm": {
     "name": "#%%\n"
    }
   }
  },
  {
   "cell_type": "code",
   "execution_count": 19,
   "outputs": [],
   "source": [
    "# Convert categorical features with \"bag of words\"\n",
    "# по dict/heroes героев 113,\n",
    "X_pick = np.zeros((cleaned_features.shape[0], 113))\n",
    "for i, match_id in enumerate(cleaned_features.index):\n",
    "    for p in range(5):\n",
    "        X_pick[i, cleaned_features.loc[match_id, 'r%d_hero' % (p+1)] -1 ] = 1\n",
    "        X_pick[i, cleaned_features.loc[match_id, 'd%d_hero' % (p+1)] -1 ] = -1"
   ],
   "metadata": {
    "collapsed": false,
    "pycharm": {
     "name": "#%%\n"
    }
   }
  },
  {
   "cell_type": "code",
   "execution_count": 20,
   "outputs": [
    {
     "data": {
      "text/plain": "          hero№0  hero№1  hero№2  hero№3  hero№4  hero№5  hero№6  hero№7  \\\nmatch_id                                                                   \n0            0.0     0.0     0.0    -1.0     0.0     0.0     0.0     0.0   \n1            0.0     0.0     0.0     0.0     0.0     0.0    -1.0     0.0   \n2            0.0     0.0     0.0     1.0     0.0     0.0     0.0     0.0   \n3            0.0     0.0     0.0     0.0     0.0     0.0     0.0     0.0   \n4            0.0     0.0     0.0     0.0     0.0     0.0     0.0    -1.0   \n...          ...     ...     ...     ...     ...     ...     ...     ...   \n114402       1.0     0.0    -1.0     0.0     0.0     0.0     1.0     0.0   \n114403       0.0     0.0     0.0     1.0    -1.0     0.0     0.0     0.0   \n114404       0.0     0.0     0.0     0.0     0.0     0.0     0.0     0.0   \n114405       0.0     0.0     0.0     0.0     0.0     0.0     0.0     0.0   \n114406       0.0     0.0     0.0     0.0     0.0     0.0     0.0     0.0   \n\n          hero№8  hero№9  ...  hero№103  hero№104  hero№105  hero№106  \\\nmatch_id                  ...                                           \n0            0.0     0.0  ...       0.0       1.0       0.0       0.0   \n1            0.0     0.0  ...       0.0       0.0       0.0       0.0   \n2            0.0     0.0  ...       0.0       0.0       0.0       0.0   \n3            0.0     0.0  ...       0.0       0.0       0.0       0.0   \n4            0.0     0.0  ...       0.0       0.0       0.0       0.0   \n...          ...     ...  ...       ...       ...       ...       ...   \n114402       0.0     0.0  ...       0.0       0.0       0.0       0.0   \n114403       0.0     0.0  ...       0.0       0.0       0.0       0.0   \n114404       0.0     0.0  ...       0.0       0.0       0.0       0.0   \n114405      -1.0     0.0  ...       0.0       0.0      -1.0       0.0   \n114406       0.0     0.0  ...       0.0       0.0      -1.0       0.0   \n\n          hero№107  hero№108  hero№109  hero№110  hero№111  hero№112  \nmatch_id                                                              \n0              0.0       0.0       0.0       0.0       0.0       0.0  \n1              0.0       0.0       0.0       0.0       0.0       0.0  \n2              0.0       0.0       0.0       0.0       0.0       0.0  \n3              0.0       0.0       0.0       0.0       0.0       0.0  \n4              0.0       0.0       0.0       0.0       0.0       0.0  \n...            ...       ...       ...       ...       ...       ...  \n114402         0.0       0.0       0.0       0.0       0.0       0.0  \n114403         0.0       0.0       1.0       0.0       0.0       0.0  \n114404         0.0       0.0       0.0       0.0       1.0       0.0  \n114405         0.0       0.0       0.0       0.0       0.0       0.0  \n114406         0.0       0.0       0.0       0.0      -1.0       0.0  \n\n[97230 rows x 113 columns]",
      "text/html": "<div>\n<style scoped>\n    .dataframe tbody tr th:only-of-type {\n        vertical-align: middle;\n    }\n\n    .dataframe tbody tr th {\n        vertical-align: top;\n    }\n\n    .dataframe thead th {\n        text-align: right;\n    }\n</style>\n<table border=\"1\" class=\"dataframe\">\n  <thead>\n    <tr style=\"text-align: right;\">\n      <th></th>\n      <th>hero№0</th>\n      <th>hero№1</th>\n      <th>hero№2</th>\n      <th>hero№3</th>\n      <th>hero№4</th>\n      <th>hero№5</th>\n      <th>hero№6</th>\n      <th>hero№7</th>\n      <th>hero№8</th>\n      <th>hero№9</th>\n      <th>...</th>\n      <th>hero№103</th>\n      <th>hero№104</th>\n      <th>hero№105</th>\n      <th>hero№106</th>\n      <th>hero№107</th>\n      <th>hero№108</th>\n      <th>hero№109</th>\n      <th>hero№110</th>\n      <th>hero№111</th>\n      <th>hero№112</th>\n    </tr>\n    <tr>\n      <th>match_id</th>\n      <th></th>\n      <th></th>\n      <th></th>\n      <th></th>\n      <th></th>\n      <th></th>\n      <th></th>\n      <th></th>\n      <th></th>\n      <th></th>\n      <th></th>\n      <th></th>\n      <th></th>\n      <th></th>\n      <th></th>\n      <th></th>\n      <th></th>\n      <th></th>\n      <th></th>\n      <th></th>\n      <th></th>\n    </tr>\n  </thead>\n  <tbody>\n    <tr>\n      <th>0</th>\n      <td>0.0</td>\n      <td>0.0</td>\n      <td>0.0</td>\n      <td>-1.0</td>\n      <td>0.0</td>\n      <td>0.0</td>\n      <td>0.0</td>\n      <td>0.0</td>\n      <td>0.0</td>\n      <td>0.0</td>\n      <td>...</td>\n      <td>0.0</td>\n      <td>1.0</td>\n      <td>0.0</td>\n      <td>0.0</td>\n      <td>0.0</td>\n      <td>0.0</td>\n      <td>0.0</td>\n      <td>0.0</td>\n      <td>0.0</td>\n      <td>0.0</td>\n    </tr>\n    <tr>\n      <th>1</th>\n      <td>0.0</td>\n      <td>0.0</td>\n      <td>0.0</td>\n      <td>0.0</td>\n      <td>0.0</td>\n      <td>0.0</td>\n      <td>-1.0</td>\n      <td>0.0</td>\n      <td>0.0</td>\n      <td>0.0</td>\n      <td>...</td>\n      <td>0.0</td>\n      <td>0.0</td>\n      <td>0.0</td>\n      <td>0.0</td>\n      <td>0.0</td>\n      <td>0.0</td>\n      <td>0.0</td>\n      <td>0.0</td>\n      <td>0.0</td>\n      <td>0.0</td>\n    </tr>\n    <tr>\n      <th>2</th>\n      <td>0.0</td>\n      <td>0.0</td>\n      <td>0.0</td>\n      <td>1.0</td>\n      <td>0.0</td>\n      <td>0.0</td>\n      <td>0.0</td>\n      <td>0.0</td>\n      <td>0.0</td>\n      <td>0.0</td>\n      <td>...</td>\n      <td>0.0</td>\n      <td>0.0</td>\n      <td>0.0</td>\n      <td>0.0</td>\n      <td>0.0</td>\n      <td>0.0</td>\n      <td>0.0</td>\n      <td>0.0</td>\n      <td>0.0</td>\n      <td>0.0</td>\n    </tr>\n    <tr>\n      <th>3</th>\n      <td>0.0</td>\n      <td>0.0</td>\n      <td>0.0</td>\n      <td>0.0</td>\n      <td>0.0</td>\n      <td>0.0</td>\n      <td>0.0</td>\n      <td>0.0</td>\n      <td>0.0</td>\n      <td>0.0</td>\n      <td>...</td>\n      <td>0.0</td>\n      <td>0.0</td>\n      <td>0.0</td>\n      <td>0.0</td>\n      <td>0.0</td>\n      <td>0.0</td>\n      <td>0.0</td>\n      <td>0.0</td>\n      <td>0.0</td>\n      <td>0.0</td>\n    </tr>\n    <tr>\n      <th>4</th>\n      <td>0.0</td>\n      <td>0.0</td>\n      <td>0.0</td>\n      <td>0.0</td>\n      <td>0.0</td>\n      <td>0.0</td>\n      <td>0.0</td>\n      <td>-1.0</td>\n      <td>0.0</td>\n      <td>0.0</td>\n      <td>...</td>\n      <td>0.0</td>\n      <td>0.0</td>\n      <td>0.0</td>\n      <td>0.0</td>\n      <td>0.0</td>\n      <td>0.0</td>\n      <td>0.0</td>\n      <td>0.0</td>\n      <td>0.0</td>\n      <td>0.0</td>\n    </tr>\n    <tr>\n      <th>...</th>\n      <td>...</td>\n      <td>...</td>\n      <td>...</td>\n      <td>...</td>\n      <td>...</td>\n      <td>...</td>\n      <td>...</td>\n      <td>...</td>\n      <td>...</td>\n      <td>...</td>\n      <td>...</td>\n      <td>...</td>\n      <td>...</td>\n      <td>...</td>\n      <td>...</td>\n      <td>...</td>\n      <td>...</td>\n      <td>...</td>\n      <td>...</td>\n      <td>...</td>\n      <td>...</td>\n    </tr>\n    <tr>\n      <th>114402</th>\n      <td>1.0</td>\n      <td>0.0</td>\n      <td>-1.0</td>\n      <td>0.0</td>\n      <td>0.0</td>\n      <td>0.0</td>\n      <td>1.0</td>\n      <td>0.0</td>\n      <td>0.0</td>\n      <td>0.0</td>\n      <td>...</td>\n      <td>0.0</td>\n      <td>0.0</td>\n      <td>0.0</td>\n      <td>0.0</td>\n      <td>0.0</td>\n      <td>0.0</td>\n      <td>0.0</td>\n      <td>0.0</td>\n      <td>0.0</td>\n      <td>0.0</td>\n    </tr>\n    <tr>\n      <th>114403</th>\n      <td>0.0</td>\n      <td>0.0</td>\n      <td>0.0</td>\n      <td>1.0</td>\n      <td>-1.0</td>\n      <td>0.0</td>\n      <td>0.0</td>\n      <td>0.0</td>\n      <td>0.0</td>\n      <td>0.0</td>\n      <td>...</td>\n      <td>0.0</td>\n      <td>0.0</td>\n      <td>0.0</td>\n      <td>0.0</td>\n      <td>0.0</td>\n      <td>0.0</td>\n      <td>1.0</td>\n      <td>0.0</td>\n      <td>0.0</td>\n      <td>0.0</td>\n    </tr>\n    <tr>\n      <th>114404</th>\n      <td>0.0</td>\n      <td>0.0</td>\n      <td>0.0</td>\n      <td>0.0</td>\n      <td>0.0</td>\n      <td>0.0</td>\n      <td>0.0</td>\n      <td>0.0</td>\n      <td>0.0</td>\n      <td>0.0</td>\n      <td>...</td>\n      <td>0.0</td>\n      <td>0.0</td>\n      <td>0.0</td>\n      <td>0.0</td>\n      <td>0.0</td>\n      <td>0.0</td>\n      <td>0.0</td>\n      <td>0.0</td>\n      <td>1.0</td>\n      <td>0.0</td>\n    </tr>\n    <tr>\n      <th>114405</th>\n      <td>0.0</td>\n      <td>0.0</td>\n      <td>0.0</td>\n      <td>0.0</td>\n      <td>0.0</td>\n      <td>0.0</td>\n      <td>0.0</td>\n      <td>0.0</td>\n      <td>-1.0</td>\n      <td>0.0</td>\n      <td>...</td>\n      <td>0.0</td>\n      <td>0.0</td>\n      <td>-1.0</td>\n      <td>0.0</td>\n      <td>0.0</td>\n      <td>0.0</td>\n      <td>0.0</td>\n      <td>0.0</td>\n      <td>0.0</td>\n      <td>0.0</td>\n    </tr>\n    <tr>\n      <th>114406</th>\n      <td>0.0</td>\n      <td>0.0</td>\n      <td>0.0</td>\n      <td>0.0</td>\n      <td>0.0</td>\n      <td>0.0</td>\n      <td>0.0</td>\n      <td>0.0</td>\n      <td>0.0</td>\n      <td>0.0</td>\n      <td>...</td>\n      <td>0.0</td>\n      <td>0.0</td>\n      <td>-1.0</td>\n      <td>0.0</td>\n      <td>0.0</td>\n      <td>0.0</td>\n      <td>0.0</td>\n      <td>0.0</td>\n      <td>-1.0</td>\n      <td>0.0</td>\n    </tr>\n  </tbody>\n</table>\n<p>97230 rows × 113 columns</p>\n</div>"
     },
     "execution_count": 20,
     "metadata": {},
     "output_type": "execute_result"
    }
   ],
   "source": [
    "# converting \"bag of words\" to DataFrame\n",
    "df_X_pick = pd.DataFrame(X_pick, columns=[f\"hero№{i}\" for i in range(113)], index=cleaned_features.index)\n",
    "df_X_pick"
   ],
   "metadata": {
    "collapsed": false,
    "pycharm": {
     "name": "#%%\n"
    }
   }
  },
  {
   "cell_type": "code",
   "execution_count": 21,
   "outputs": [],
   "source": [
    "# concat with df with deleted categ\n",
    "no_categ_features_with_bag =  pd.concat([df_X_pick, no_categ_features], axis=1)"
   ],
   "metadata": {
    "collapsed": false,
    "pycharm": {
     "name": "#%%\n"
    }
   }
  },
  {
   "cell_type": "code",
   "execution_count": 22,
   "outputs": [],
   "source": [
    "# scaling\n",
    "scaler_2 = StandardScaler()\n",
    "scaled_no_categ_features_with_bag = scaler_2.fit_transform(no_categ_features_with_bag)\n"
   ],
   "metadata": {
    "collapsed": false,
    "pycharm": {
     "name": "#%%\n"
    }
   }
  },
  {
   "cell_type": "code",
   "execution_count": 23,
   "outputs": [
    {
     "name": "stdout",
     "output_type": "stream",
     "text": [
      "Fitting 5 folds for each of 10 candidates, totalling 50 fits\n"
     ]
    },
    {
     "name": "stderr",
     "output_type": "stream",
     "text": [
      "[Parallel(n_jobs=6)]: Using backend LokyBackend with 6 concurrent workers.\n",
      "[Parallel(n_jobs=6)]: Done  29 tasks      | elapsed:   15.6s\n",
      "[Parallel(n_jobs=6)]: Done  50 out of  50 | elapsed:   27.1s finished\n"
     ]
    },
    {
     "data": {
      "text/plain": "GridSearchCV(cv=KFold(n_splits=5, random_state=241, shuffle=True),\n             estimator=LogisticRegression(multi_class='ovr', random_state=241),\n             n_jobs=6,\n             param_grid={'C': [0.001, 0.01, 0.05, 0.1, 0.2, 0.5, 1, 3, 5, 10]},\n             scoring='roc_auc', verbose=2)"
     },
     "execution_count": 23,
     "metadata": {},
     "output_type": "execute_result"
    }
   ],
   "source": [
    "# LogisticRegression with \"bag of words\"\n",
    "estimator = LogisticRegression(random_state=241, multi_class=\"ovr\")\n",
    "grid = {'C': [0.001,0.01, 0.05,0.1,0.2,0.5,1,3,5,10] }\n",
    "cv = KFold(n_splits=5, shuffle=True, random_state=241)\n",
    "gs_bag = GridSearchCV(estimator, grid, scoring='roc_auc', cv=cv, n_jobs=6, verbose=2)\n",
    "gs_bag.fit(scaled_no_categ_features_with_bag, y)"
   ],
   "metadata": {
    "collapsed": false,
    "pycharm": {
     "name": "#%%\n"
    }
   }
  },
  {
   "cell_type": "code",
   "execution_count": 24,
   "outputs": [
    {
     "name": "stdout",
     "output_type": "stream",
     "text": [
      "0.7519709169561621\n",
      "{'C': 0.01}\n"
     ]
    },
    {
     "data": {
      "text/plain": "{'mean_fit_time': array([2.0120338 , 2.92085752, 3.10462389, 3.13385019, 3.43792701,\n        3.2935945 , 3.31481371, 3.18709712, 3.42491574, 2.60917053]),\n 'std_fit_time': array([0.05539738, 0.09643579, 0.10601534, 0.07858921, 0.11642191,\n        0.12581266, 0.06609887, 0.07714436, 0.13200981, 0.6818827 ]),\n 'mean_score_time': array([0.02622275, 0.02742577, 0.02462215, 0.02562318, 0.02342281,\n        0.02602396, 0.02482276, 0.02662497, 0.03042655, 0.01661577]),\n 'std_score_time': array([0.00256467, 0.0040841 , 0.00249784, 0.0063821 , 0.00206017,\n        0.00385013, 0.00240301, 0.00476136, 0.00398382, 0.00662855]),\n 'param_C': masked_array(data=[0.001, 0.01, 0.05, 0.1, 0.2, 0.5, 1, 3, 5, 10],\n              mask=[False, False, False, False, False, False, False, False,\n                    False, False],\n        fill_value='?',\n             dtype=object),\n 'params': [{'C': 0.001},\n  {'C': 0.01},\n  {'C': 0.05},\n  {'C': 0.1},\n  {'C': 0.2},\n  {'C': 0.5},\n  {'C': 1},\n  {'C': 3},\n  {'C': 5},\n  {'C': 10}],\n 'split0_test_score': array([0.75515191, 0.75521636, 0.75514193, 0.75513042, 0.75512478,\n        0.75512081, 0.75512029, 0.75512062, 0.7551203 , 0.75512052]),\n 'split1_test_score': array([0.74930934, 0.74985827, 0.74988983, 0.74989125, 0.74989521,\n        0.74989657, 0.74989619, 0.74989622, 0.74989649, 0.74989656]),\n 'split2_test_score': array([0.75181807, 0.75218087, 0.75214196, 0.75213456, 0.75213099,\n        0.75212841, 0.75212706, 0.75212585, 0.7521254 , 0.75212817]),\n 'split3_test_score': array([0.74901093, 0.74950989, 0.74953142, 0.74953492, 0.7495363 ,\n        0.74953759, 0.74953815, 0.74953913, 0.74953931, 0.749539  ]),\n 'split4_test_score': array([0.75305403, 0.75308918, 0.75295125, 0.75292999, 0.75291779,\n        0.75290901, 0.75290589, 0.75290307, 0.75290171, 0.75290244]),\n 'mean_test_score': array([0.75166885, 0.75197092, 0.75193128, 0.75192423, 0.75192102,\n        0.75191848, 0.75191752, 0.75191698, 0.75191664, 0.75191734]),\n 'std_test_score': array([0.00231104, 0.00211412, 0.00206494, 0.00205802, 0.0020539 ,\n        0.00205119, 0.00205064, 0.00205022, 0.00204988, 0.00205013]),\n 'rank_test_score': array([10,  1,  2,  3,  4,  5,  6,  8,  9,  7])}"
     },
     "execution_count": 24,
     "metadata": {},
     "output_type": "execute_result"
    }
   ],
   "source": [
    "print(gs_bag.best_score_)\n",
    "print(gs_bag.best_params_)\n",
    "gs_bag.cv_results_\n"
   ],
   "metadata": {
    "collapsed": false,
    "pycharm": {
     "name": "#%%\n"
    }
   }
  },
  {
   "cell_type": "code",
   "execution_count": 24,
   "outputs": [],
   "source": [],
   "metadata": {
    "collapsed": false,
    "pycharm": {
     "name": "#%%\n"
    }
   }
  },
  {
   "cell_type": "code",
   "execution_count": 25,
   "outputs": [],
   "source": [
    "# test data preprocessing № 1\n",
    "test = pd.read_csv('features_test.csv', index_col='match_id')\n",
    "categ_columns = test.columns.str.contains(\"hero|lobby_type\",regex=True)\n",
    "del_names = test.columns[categ_columns]\n",
    "no_categ_test = test.drop(columns=del_names)\n",
    "no_categ_test.fillna(0, inplace=True)"
   ],
   "metadata": {
    "collapsed": false,
    "pycharm": {
     "name": "#%%\n"
    }
   }
  },
  {
   "cell_type": "code",
   "execution_count": 26,
   "outputs": [],
   "source": [
    "# test data preprocessing № 2\n",
    "X_pick = np.zeros((test.shape[0], 113))\n",
    "for i, match_id in enumerate(test.index):\n",
    "    for p in range(5):\n",
    "        X_pick[i, test.loc[match_id, 'r%d_hero' % (p+1)] -1 ] = 1\n",
    "        X_pick[i, test.loc[match_id, 'd%d_hero' % (p+1)] -1 ] = -1\n",
    "\n",
    "df_X_pick_test = pd.DataFrame(X_pick, columns=[f\"hero№{i}\" for i in range(113)], index=no_categ_test.index)\n",
    "no_categ_test_with_bag =  pd.concat([df_X_pick_test, no_categ_test], axis=1)\n",
    "scaled_no_categ_test_with_bag = scaler_2.transform(no_categ_test_with_bag)"
   ],
   "metadata": {
    "collapsed": false,
    "pycharm": {
     "name": "#%%\n"
    }
   }
  },
  {
   "cell_type": "code",
   "execution_count": 27,
   "outputs": [],
   "source": [
    "# test data predicting\n",
    "best_estimator  = gs_bag.best_estimator_\n",
    "y_test =  best_estimator.predict_proba(scaled_no_categ_test_with_bag)"
   ],
   "metadata": {
    "collapsed": false,
    "pycharm": {
     "name": "#%%\n"
    }
   }
  },
  {
   "cell_type": "code",
   "execution_count": 28,
   "outputs": [
    {
     "data": {
      "text/plain": "<Figure size 432x288 with 1 Axes>",
      "image/png": "[encoded data removed]"
     },
     "metadata": {
      "needs_background": "light"
     },
     "output_type": "display_data"
    }
   ],
   "source": [
    "import matplotlib.pyplot as plt\n",
    "plt.figure()\n",
    "plt.plot(y_test[:, 1])\n",
    "plt.show()"
   ],
   "metadata": {
    "collapsed": false,
    "pycharm": {
     "name": "#%%\n"
    }
   }
  },
  {
   "cell_type": "code",
   "execution_count": 34,
   "outputs": [
    {
     "name": "stdout",
     "output_type": "stream",
     "text": [
      "0.008505990698417138\n",
      "0.9962795503882239\n"
     ]
    }
   ],
   "source": [
    "print(min(y_test[:, 1]))\n",
    "print(max(y_test[:, 1]))\n"
   ],
   "metadata": {
    "collapsed": false,
    "pycharm": {
     "name": "#%%\n"
    }
   }
  }
 ],
 "metadata": {
  "kernelspec": {
   "display_name": "Python 3",
   "language": "python",
   "name": "python3"
  },
  "language_info": {
   "codemirror_mode": {
    "name": "ipython",
    "version": 2
   },
   "file_extension": ".py",
   "mimetype": "text/x-python",
   "name": "python",
   "nbconvert_exporter": "python",
   "pygments_lexer": "ipython2",
   "version": "2.7.6"
  }
 },
 "nbformat": 4,
 "nbformat_minor": 0
}