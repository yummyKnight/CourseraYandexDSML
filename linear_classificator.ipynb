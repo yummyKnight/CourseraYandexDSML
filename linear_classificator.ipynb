{
 "cells": [
  {
   "cell_type": "code",
   "execution_count": 1,
   "metadata": {
    "collapsed": true
   },
   "outputs": [],
   "source": [
    "import numpy as np\n",
    "import pandas as pd\n",
    "import matplotlib.pyplot as plt\n",
    "from sklearn import preprocessing\n",
    "from sklearn.linear_model import Perceptron\n",
    "from sklearn.metrics import accuracy_score"
   ]
  },
  {
   "cell_type": "code",
   "execution_count": 2,
   "outputs": [],
   "source": [
    "from sklearn.preprocessing import StandardScaler\n",
    "perceptron_test = pd.read_csv(\"datasets/perceptron-test.csv\",header=None, names= [\"y\", \"X1\", \"X2\"])\n",
    "perceptron_train = pd.read_csv(\"datasets/perceptron-train.csv\",header=None, names= [\"y\", \"X1\", \"X2\"])\n",
    "perceptron_test_data = perceptron_test.iloc[:, 1:].values\n",
    "perceptron_test_target = perceptron_test.iloc[:, 0].values.astype(\"int\")\n",
    "# perceptron_test_target[perceptron_test_target == -1] = 0\n",
    "perceptron_train_data = perceptron_train.iloc[:, 1:].values\n",
    "perceptron_train_target = perceptron_train.iloc[:, 0].values.astype(\"int\")\n",
    "# perceptron_train_target[perceptron_train_target == -1] = 0"
   ],
   "metadata": {
    "collapsed": false,
    "pycharm": {
     "name": "#%%\n"
    }
   }
  },
  {
   "cell_type": "code",
   "execution_count": 3,
   "outputs": [
    {
     "name": "stdout",
     "output_type": "stream",
     "text": [
      "0.655\n"
     ]
    }
   ],
   "source": [
    "# without normalization\n",
    "clf = Perceptron(random_state=241,max_iter=5, tol=None)\n",
    "clf.fit(X=perceptron_train_data, y=perceptron_train_target)\n",
    "predicted = clf.predict(perceptron_test_data)\n",
    "not_norm_res =  accuracy_score(perceptron_test_target, predicted)\n",
    "print(not_norm_res)"
   ],
   "metadata": {
    "collapsed": false,
    "pycharm": {
     "name": "#%%\n"
    }
   }
  },
  {
   "cell_type": "code",
   "execution_count": 4,
   "outputs": [
    {
     "name": "stdout",
     "output_type": "stream",
     "text": [
      "0.84\n"
     ]
    }
   ],
   "source": [
    "# with normalization\n",
    "scaler = preprocessing.StandardScaler()\n",
    "perceptron_train_data_scaled  = scaler.fit_transform(perceptron_train_data)\n",
    "perceptron_test_data_scaled = scaler.transform(perceptron_test_data)\n",
    "clf.fit(X=perceptron_train_data_scaled, y=perceptron_train_target)\n",
    "predicted_scaled = clf.predict(perceptron_test_data_scaled)\n",
    "norm_res = accuracy_score(perceptron_test_target, predicted_scaled)\n",
    "print(norm_res)"
   ],
   "metadata": {
    "collapsed": false,
    "pycharm": {
     "name": "#%%\n"
    }
   }
  },
  {
   "cell_type": "code",
   "execution_count": 5,
   "outputs": [
    {
     "data": {
      "text/plain": "0.18499999999999994"
     },
     "execution_count": 5,
     "metadata": {},
     "output_type": "execute_result"
    }
   ],
   "source": [
    "abs(not_norm_res - norm_res)\n",
    "\n"
   ],
   "metadata": {
    "collapsed": false,
    "pycharm": {
     "name": "#%%\n"
    }
   }
  }
 ],
 "metadata": {
  "kernelspec": {
   "display_name": "Python 3",
   "language": "python",
   "name": "python3"
  },
  "language_info": {
   "codemirror_mode": {
    "name": "ipython",
    "version": 2
   },
   "file_extension": ".py",
   "mimetype": "text/x-python",
   "name": "python",
   "nbconvert_exporter": "python",
   "pygments_lexer": "ipython2",
   "version": "2.7.6"
  }
 },
 "nbformat": 4,
 "nbformat_minor": 0
}