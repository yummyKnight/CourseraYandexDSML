{
 "cells": [
  {
   "cell_type": "code",
   "execution_count": 93,
   "metadata": {
    "collapsed": true
   },
   "outputs": [],
   "source": [
    "import numpy as np\n",
    "import pandas as pd\n",
    "from sklearn.metrics import roc_auc_score\n",
    "\n",
    "def gradient_descent_reg(W: np.ndarray, X: np.ndarray, y: np.ndarray, k=0.1, C=10, eps=1e-5):\n",
    "    l = len(y)\n",
    "    t = 0\n",
    "    while t <= 10000:\n",
    "        t += 1\n",
    "        prev_W = W.copy()\n",
    "        dot: np.ndarray = np.dot(X, W)\n",
    "        for i, w in enumerate(prev_W):\n",
    "            w = w + k / l * sum(y * X[:, i] * (1 - 1 / (1 + np.exp(-y * dot)))) - k * C * w\n",
    "            W[i] = w\n",
    "        if np.linalg.norm(W - prev_W) <= eps:\n",
    "            print(\"Iterations:\", t)\n",
    "            return W\n",
    "    return W\n",
    "\n",
    "def gradient_descent(W: np.ndarray, X: np.ndarray, y: np.ndarray, k=0.1, eps=1e-5):\n",
    "    l = len(y)\n",
    "    t = 0\n",
    "    while t <= 10000:\n",
    "        t += 1\n",
    "        prev_W = W.copy()\n",
    "        dot: np.ndarray = np.dot(X, W)\n",
    "        for i, w in enumerate(prev_W):\n",
    "            w = w + k / l * sum(y * X[:, i] * (1 - 1 / (1 + np.exp(-y * dot))))\n",
    "            W[i] = w\n",
    "        if np.linalg.norm(W - prev_W) <= eps:\n",
    "            print(\"Iterations:\", t)\n",
    "            return W\n",
    "    return W"
   ]
  },
  {
   "cell_type": "code",
   "execution_count": 94,
   "outputs": [],
   "source": [
    "def A(X, y, feature_index, w0):\n",
    "#     d = -np.dot(X[:,0] * w0[0], y) - np.dot(X[:,1] * w0[1], y)\n",
    "#     e = (1. - 1. / (1. + np.exp(d))) * np.dot(X[:, feature_index], y)\n",
    "    d = -X[:,0] * w0[0] * y - X[:,1] * w0[1] * y\n",
    "    e = (1. - 1. / (1. + np.exp(d))) * X[:, feature_index] * y\n",
    "    return sum(e)\n",
    "\n",
    "def grad_t(X, y, W, k=0.1, eps=1e-5, C = 10):\n",
    "    l = len(y)\n",
    "    t = 0\n",
    "    while t <= 10000:\n",
    "        t += 1\n",
    "        old_W = W.copy()\n",
    "        W[0] = W[0] + k/l * A(X, y, 0, W) - k * C * W[0]\n",
    "        W[1] = W[1] + k/l * A(X, y, 1, W) - k * C * W[1]\n",
    "        if np.linalg.norm(W - old_W) <= eps:\n",
    "            print(\"Iterations:\", t)\n",
    "            return W\n",
    "    return W"
   ],
   "metadata": {
    "collapsed": false,
    "pycharm": {
     "name": "#%%\n"
    }
   }
  },
  {
   "cell_type": "code",
   "execution_count": 95,
   "outputs": [],
   "source": [
    "data_set = pd.read_csv(\"datasets/data-logistic.csv\", names = [\"y\", \"X1\", \"X2\"])\n",
    "\n",
    "y = data_set.y.copy().astype(int)\n",
    "X = data_set[[\"X1\", \"X2\"]]"
   ],
   "metadata": {
    "collapsed": false,
    "pycharm": {
     "name": "#%%\n"
    }
   }
  },
  {
   "cell_type": "code",
   "execution_count": 96,
   "outputs": [
    {
     "name": "stdout",
     "output_type": "stream",
     "text": [
      "Iterations: 6\n",
      "Iterations: 236\n",
      "[0.02855877 0.02478103]\n",
      "[0.28781509 0.09197654]\n"
     ]
    }
   ],
   "source": [
    "# foreg_W = A()\n",
    "W_reg = grad_t(X.values, y.values, np.array([0., 0.]))\n",
    "W_ = grad_t(X.values, y.values, np.array([0., 0.]), C=0)\n",
    "print(W_reg)\n",
    "print(W_)"
   ],
   "metadata": {
    "collapsed": false,
    "pycharm": {
     "name": "#%%\n"
    }
   }
  },
  {
   "cell_type": "code",
   "execution_count": 97,
   "outputs": [
    {
     "name": "stdout",
     "output_type": "stream",
     "text": [
      "Reg score 0.9362857142857142\n",
      "Not reg score 0.9268571428571428\n"
     ]
    }
   ],
   "source": [
    "sig_reg = 1 / (1 + np.exp(-np.dot(X, W_reg)))\n",
    "sig = 1 / (1 + np.exp(-np.dot(X, W_)))\n",
    "print(\"Reg score\" , roc_auc_score(y.values, sig_reg))\n",
    "print(\"Not reg score\" ,roc_auc_score(y.values, sig))\n"
   ],
   "metadata": {
    "collapsed": false,
    "pycharm": {
     "name": "#%%\n"
    }
   }
  }
 ],
 "metadata": {
  "kernelspec": {
   "display_name": "Python 3",
   "language": "python",
   "name": "python3"
  },
  "language_info": {
   "codemirror_mode": {
    "name": "ipython",
    "version": 2
   },
   "file_extension": ".py",
   "mimetype": "text/x-python",
   "name": "python",
   "nbconvert_exporter": "python",
   "pygments_lexer": "ipython2",
   "version": "2.7.6"
  }
 },
 "nbformat": 4,
 "nbformat_minor": 0
}