{
 "cells": [
  {
   "cell_type": "code",
   "execution_count": 14,
   "metadata": {
    "collapsed": true
   },
   "outputs": [],
   "source": [
    "import numpy as np\n",
    "import pandas as pd\n",
    "import matplotlib.pyplot as plt\n",
    "from sklearn.model_selection import KFold, cross_val_score\n",
    "from sklearn.neighbors import KNeighborsClassifier\n",
    "from sklearn import preprocessing"
   ]
  },
  {
   "cell_type": "code",
   "execution_count": 15,
   "outputs": [
    {
     "name": "stdout",
     "output_type": "stream",
     "text": [
      "   Class  Alcohol  Malic acid   Ash  Alcalinity of ash  Magnesium  \\\n",
      "0      1    14.23        1.71  2.43               15.6        127   \n",
      "1      1    13.20        1.78  2.14               11.2        100   \n",
      "2      1    13.16        2.36  2.67               18.6        101   \n",
      "3      1    14.37        1.95  2.50               16.8        113   \n",
      "4      1    13.24        2.59  2.87               21.0        118   \n",
      "\n",
      "   Total phenols  Flavanoids  Nonflavanoid phenols  Proanthocyanins  \\\n",
      "0           2.80        3.06                  0.28             2.29   \n",
      "1           2.65        2.76                  0.26             1.28   \n",
      "2           2.80        3.24                  0.30             2.81   \n",
      "3           3.85        3.49                  0.24             2.18   \n",
      "4           2.80        2.69                  0.39             1.82   \n",
      "\n",
      "   Color intensity   Hue  OD280/OD315 of diluted wines  Proline  \n",
      "0             5.64  1.04                          3.92     1065  \n",
      "1             4.38  1.05                          3.40     1050  \n",
      "2             5.68  1.03                          3.17     1185  \n",
      "3             7.80  0.86                          3.45     1480  \n",
      "4             4.32  1.04                          2.93      735  \n",
      "2    71\n",
      "1    59\n",
      "3    48\n",
      "Name: Class, dtype: int64\n"
     ]
    },
    {
     "data": {
      "text/plain": "(178, 14)"
     },
     "execution_count": 15,
     "metadata": {},
     "output_type": "execute_result"
    }
   ],
   "source": [
    "wine_names = \"\"\"Class\n",
    "Alcohol\n",
    "Malic acid\n",
    "Ash\n",
    "Alcalinity of ash\n",
    "Magnesium\n",
    "Total phenols\n",
    "Flavanoids\n",
    "Nonflavanoid phenols\n",
    "Proanthocyanins\n",
    "Color intensity\n",
    "Hue\n",
    "OD280/OD315 of diluted wines\n",
    "Proline\"\"\".split(\"\\n\")\n",
    "wine_data = pd.read_csv(\"datasets/wine.data\", names=wine_names)\n",
    "print(wine_data.head())\n",
    "print(wine_data.Class.value_counts())\n",
    "wine_data.shape\n",
    "\n"
   ],
   "metadata": {
    "collapsed": false,
    "pycharm": {
     "name": "#%%\n"
    }
   }
  },
  {
   "cell_type": "code",
   "execution_count": 16,
   "outputs": [
    {
     "name": "stdout",
     "output_type": "stream",
     "text": [
      "[1 1 1 1 1 1 1 1 1 1 1 1 1 1 1 1 1 1 1 1 1 1 1 1 1 1 1 1 1 1 1 1 1 1 1 1 1\n",
      " 1 1 1 1 1 1 1 1 1 1 1 1 1 1 1 1 1 1 1 1 1 1 2 2 2 2 2 2 2 2 2 2 2 2 2 2 2\n",
      " 2 2 2 2 2 2 2 2 2 2 2 2 2 2 2 2 2 2 2 2 2 2 2 2 2 2 2 2 2 2 2 2 2 2 2 2 2\n",
      " 2 2 2 2 2 2 2 2 2 2 2 2 2 2 2 2 2 2 2 3 3 3 3 3 3 3 3 3 3 3 3 3 3 3 3 3 3\n",
      " 3 3 3 3 3 3 3 3 3 3 3 3 3 3 3 3 3 3 3 3 3 3 3 3 3 3 3 3 3 3]\n",
      "[[1.423e+01 1.710e+00 2.430e+00 ... 1.040e+00 3.920e+00 1.065e+03]\n",
      " [1.320e+01 1.780e+00 2.140e+00 ... 1.050e+00 3.400e+00 1.050e+03]\n",
      " [1.316e+01 2.360e+00 2.670e+00 ... 1.030e+00 3.170e+00 1.185e+03]\n",
      " ...\n",
      " [1.327e+01 4.280e+00 2.260e+00 ... 5.900e-01 1.560e+00 8.350e+02]\n",
      " [1.317e+01 2.590e+00 2.370e+00 ... 6.000e-01 1.620e+00 8.400e+02]\n",
      " [1.413e+01 4.100e+00 2.740e+00 ... 6.100e-01 1.600e+00 5.600e+02]]\n"
     ]
    }
   ],
   "source": [
    "wine_class = wine_data.Class.values\n",
    "wine_features = wine_data.iloc[:, 1:].values\n",
    "print(wine_class)\n",
    "print(wine_features)"
   ],
   "metadata": {
    "collapsed": false,
    "pycharm": {
     "name": "#%%\n"
    }
   }
  },
  {
   "cell_type": "code",
   "execution_count": 17,
   "outputs": [],
   "source": [
    "# without scaling\n",
    "KNN1_50 = [KNeighborsClassifier(k) for k in range(1, 51, 1)]\n",
    "cv = KFold(n_splits=5, shuffle=True, random_state=42)"
   ],
   "metadata": {
    "collapsed": false,
    "pycharm": {
     "name": "#%%\n"
    }
   }
  },
  {
   "cell_type": "code",
   "execution_count": 18,
   "outputs": [],
   "source": [
    "array_scores = [cross_val_score(model, wine_features, wine_class, cv=cv) for model in KNN1_50]\n",
    "mean_cross_val_scores = [scores.mean() for scores in array_scores]"
   ],
   "metadata": {
    "collapsed": false,
    "pycharm": {
     "name": "#%%\n"
    }
   }
  },
  {
   "cell_type": "code",
   "execution_count": 19,
   "outputs": [
    {
     "data": {
      "text/plain": "1     0.730476\n35    0.724603\n34    0.724603\n48    0.719048\n36    0.713492\n29    0.713492\n32    0.713492\n33    0.713492\n41    0.713492\n38    0.713492\n37    0.713492\n3     0.708254\n28    0.707937\n30    0.707937\n39    0.707937\n50    0.707778\n40    0.707778\n43    0.707778\n44    0.707778\n45    0.707778\n46    0.707778\n42    0.707778\n24    0.707619\n11    0.702540\n9     0.702381\n23    0.702063\n15    0.701905\n21    0.701905\n25    0.701905\n17    0.701587\n47    0.696667\n12    0.696667\n49    0.696667\n26    0.696508\n22    0.696508\n27    0.696349\n31    0.690952\n13    0.690952\n20    0.690952\n10    0.680159\n7     0.680000\n8     0.680000\n16    0.679524\n18    0.679524\n14    0.679365\n19    0.679365\n5     0.674603\n6     0.674286\n2     0.662540\n4     0.657778\ndtype: float64"
     },
     "execution_count": 19,
     "metadata": {},
     "output_type": "execute_result"
    }
   ],
   "source": [
    "ser = pd.Series(mean_cross_val_scores, index=range(1, 51, 1))\n",
    "ser.sort_values(ascending=False)\n"
   ],
   "metadata": {
    "collapsed": false,
    "pycharm": {
     "name": "#%%\n"
    }
   }
  },
  {
   "cell_type": "code",
   "execution_count": 20,
   "outputs": [
    {
     "data": {
      "text/plain": "29    0.977619\n16    0.972063\n15    0.972063\n18    0.966508\n17    0.966508\n20    0.966508\n22    0.966508\n14    0.966349\n28    0.966349\n33    0.966349\n34    0.966349\n43    0.966349\n41    0.966349\n45    0.966349\n21    0.960952\n11    0.960952\n23    0.960952\n38    0.960794\n9     0.960794\n10    0.960794\n26    0.960794\n39    0.960794\n42    0.960794\n30    0.960794\n32    0.960794\n40    0.960794\n35    0.960794\n36    0.960794\n44    0.960635\n50    0.960635\n19    0.955397\n12    0.955238\n8     0.955238\n25    0.955238\n24    0.955238\n27    0.955238\n31    0.955238\n37    0.955238\n49    0.955079\n47    0.955079\n3     0.955079\n46    0.949524\n48    0.949524\n7     0.949524\n6     0.949524\n13    0.949524\n5     0.949365\n1     0.943968\n4     0.938254\n2     0.932857\ndtype: float64"
     },
     "execution_count": 20,
     "metadata": {},
     "output_type": "execute_result"
    }
   ],
   "source": [
    "# with scaling\n",
    "KNN1_50 = [KNeighborsClassifier(k) for k in range(1, 51, 1)]\n",
    "wine_features_scaled = preprocessing.scale(wine_features)\n",
    "array_scores_scaled = [cross_val_score(model, wine_features_scaled, wine_class, cv=cv) for model in KNN1_50]\n",
    "mean_cross_val_scores_scaled = [scores.mean() for scores in array_scores_scaled]\n",
    "ser_scaled = pd.Series(mean_cross_val_scores_scaled, index=range(1, 51, 1))\n",
    "ser_scaled.sort_values(ascending=False)"
   ],
   "metadata": {
    "collapsed": false,
    "pycharm": {
     "name": "#%%\n"
    }
   }
  },
  {
   "cell_type": "code",
   "execution_count": 21,
   "outputs": [
    {
     "name": "stdout",
     "output_type": "stream",
     "text": [
      "[[ 1.51861254 -0.5622498   0.23205254 ...  0.36217728  1.84791957\n",
      "   1.01300893]\n",
      " [ 0.24628963 -0.49941338 -0.82799632 ...  0.40605066  1.1134493\n",
      "   0.96524152]\n",
      " [ 0.19687903  0.02123125  1.10933436 ...  0.31830389  0.78858745\n",
      "   1.39514818]\n",
      " ...\n",
      " [ 0.33275817  1.74474449 -0.38935541 ... -1.61212515 -1.48544548\n",
      "   0.28057537]\n",
      " [ 0.20923168  0.22769377  0.01273209 ... -1.56825176 -1.40069891\n",
      "   0.29649784]\n",
      " [ 1.39508604  1.58316512  1.36520822 ... -1.52437837 -1.42894777\n",
      "  -0.59516041]]\n",
      "1402\n",
      "4.464660221525647\n"
     ]
    }
   ],
   "source": [
    "print(wine_features_scaled)\n",
    "print(wine_data.Proline.max() - wine_data.Proline.min())\n",
    "print(wine_features_scaled[:, -1].max() - wine_features_scaled[:, -1].min())"
   ],
   "metadata": {
    "collapsed": false,
    "pycharm": {
     "name": "#%%\n"
    }
   }
  }
 ],
 "metadata": {
  "kernelspec": {
   "display_name": "Python 3",
   "language": "python",
   "name": "python3"
  },
  "language_info": {
   "codemirror_mode": {
    "name": "ipython",
    "version": 2
   },
   "file_extension": ".py",
   "mimetype": "text/x-python",
   "name": "python",
   "nbconvert_exporter": "python",
   "pygments_lexer": "ipython2",
   "version": "2.7.6"
  }
 },
 "nbformat": 4,
 "nbformat_minor": 0
}