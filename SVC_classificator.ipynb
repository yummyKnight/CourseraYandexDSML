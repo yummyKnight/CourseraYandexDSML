{
 "cells": [
  {
   "cell_type": "code",
   "execution_count": 18,
   "metadata": {
    "collapsed": true
   },
   "outputs": [],
   "source": [
    "import numpy as np\n",
    "import pandas as pd\n",
    "import matplotlib.pyplot as plt\n",
    "from sklearn.svm import SVC\n"
   ]
  },
  {
   "cell_type": "code",
   "execution_count": 28,
   "outputs": [
    {
     "data": {
      "text/plain": "     X1    X2\n0  0.70  0.29\n1  0.23  0.55\n2  0.72  0.42\n3  0.98  0.68\n4  0.48  0.39\n5  0.34  0.73\n6  0.44  0.06\n7  0.40  0.74\n8  0.18  0.18\n9  0.53  0.53",
      "text/html": "<div>\n<style scoped>\n    .dataframe tbody tr th:only-of-type {\n        vertical-align: middle;\n    }\n\n    .dataframe tbody tr th {\n        vertical-align: top;\n    }\n\n    .dataframe thead th {\n        text-align: right;\n    }\n</style>\n<table border=\"1\" class=\"dataframe\">\n  <thead>\n    <tr style=\"text-align: right;\">\n      <th></th>\n      <th>X1</th>\n      <th>X2</th>\n    </tr>\n  </thead>\n  <tbody>\n    <tr>\n      <th>0</th>\n      <td>0.70</td>\n      <td>0.29</td>\n    </tr>\n    <tr>\n      <th>1</th>\n      <td>0.23</td>\n      <td>0.55</td>\n    </tr>\n    <tr>\n      <th>2</th>\n      <td>0.72</td>\n      <td>0.42</td>\n    </tr>\n    <tr>\n      <th>3</th>\n      <td>0.98</td>\n      <td>0.68</td>\n    </tr>\n    <tr>\n      <th>4</th>\n      <td>0.48</td>\n      <td>0.39</td>\n    </tr>\n    <tr>\n      <th>5</th>\n      <td>0.34</td>\n      <td>0.73</td>\n    </tr>\n    <tr>\n      <th>6</th>\n      <td>0.44</td>\n      <td>0.06</td>\n    </tr>\n    <tr>\n      <th>7</th>\n      <td>0.40</td>\n      <td>0.74</td>\n    </tr>\n    <tr>\n      <th>8</th>\n      <td>0.18</td>\n      <td>0.18</td>\n    </tr>\n    <tr>\n      <th>9</th>\n      <td>0.53</td>\n      <td>0.53</td>\n    </tr>\n  </tbody>\n</table>\n</div>"
     },
     "execution_count": 28,
     "metadata": {},
     "output_type": "execute_result"
    }
   ],
   "source": [
    "svm_data = pd.read_csv(\"datasets/svm-data.csv\", header=None, names = [\"target\", \"X1\", \"X2\"])\n",
    "target = svm_data.target.copy().astype(\"int\")\n",
    "data = svm_data[[\"X1\", \"X2\"]].copy()\n",
    "data"
   ],
   "metadata": {
    "collapsed": false,
    "pycharm": {
     "name": "#%%\n"
    }
   }
  },
  {
   "cell_type": "code",
   "execution_count": 27,
   "outputs": [
    {
     "name": "stdout",
     "output_type": "stream",
     "text": [
      "[3 4 9]\n",
      "[[0.98 0.68]\n",
      " [0.48 0.39]\n",
      " [0.53 0.53]]\n"
     ]
    }
   ],
   "source": [
    "clf = SVC(kernel=\"linear\", C=100000, random_state=241)\n",
    "clf.fit(data.values, target.values)\n",
    "print(clf.support_)\n",
    "print(clf.support_vectors_)"
   ],
   "metadata": {
    "collapsed": false,
    "pycharm": {
     "name": "#%%\n"
    }
   }
  },
  {
   "cell_type": "code",
   "execution_count": 24,
   "outputs": [
    {
     "data": {
      "text/plain": "<Figure size 432x288 with 1 Axes>",
      "image/png": "[encoded data removed]"
     },
     "metadata": {
      "needs_background": "light"
     },
     "output_type": "display_data"
    }
   ],
   "source": [
    "p = np.array([\"red\" if i in clf.support_vectors_ else \"blue\" for i in data.values])\n",
    "data.plot.scatter(x = \"X1\", y = \"X2\", c = p)\n",
    "plt.show()"
   ],
   "metadata": {
    "collapsed": false,
    "pycharm": {
     "name": "#%%\n"
    }
   }
  },
  {
   "cell_type": "code",
   "execution_count": 13,
   "outputs": [
    {
     "data": {
      "text/plain": "array([1, 1, 1, 2, 2, 1, 1, 1, 1, 2])"
     },
     "execution_count": 13,
     "metadata": {},
     "output_type": "execute_result"
    }
   ],
   "source": [],
   "metadata": {
    "collapsed": false,
    "pycharm": {
     "name": "#%%\n"
    }
   }
  }
 ],
 "metadata": {
  "kernelspec": {
   "display_name": "Python 3",
   "language": "python",
   "name": "python3"
  },
  "language_info": {
   "codemirror_mode": {
    "name": "ipython",
    "version": 2
   },
   "file_extension": ".py",
   "mimetype": "text/x-python",
   "name": "python",
   "nbconvert_exporter": "python",
   "pygments_lexer": "ipython2",
   "version": "2.7.6"
  }
 },
 "nbformat": 4,
 "nbformat_minor": 0
}