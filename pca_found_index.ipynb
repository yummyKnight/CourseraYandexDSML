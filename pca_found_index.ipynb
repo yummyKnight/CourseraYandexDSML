{
 "cells": [
  {
   "cell_type": "code",
   "execution_count": 10,
   "metadata": {
    "collapsed": true
   },
   "outputs": [
    {
     "name": "stdout",
     "output_type": "stream",
     "text": [
      "done\n"
     ]
    }
   ],
   "source": [
    "from sklearn.decomposition import PCA\n",
    "import numpy as np\n",
    "import pandas as pd\n",
    "from matplotlib import pyplot as plt\n",
    "print(\"done\")"
   ]
  },
  {
   "cell_type": "code",
   "execution_count": 3,
   "outputs": [
    {
     "data": {
      "text/plain": "         date        AXP          BA        CAT       CSCO         CVX  \\\n0  2013-09-23  76.440002  117.510002  85.029999  24.270000  125.519997   \n1  2013-09-24  76.070000  119.000000  85.110001  24.139999  124.489998   \n2  2013-09-25  75.989998  118.510002  84.500000  24.430000  124.070000   \n3  2013-09-26  76.320000  119.379997  84.199997  23.770000  123.489998   \n4  2013-09-27  75.889999  118.739998  83.800003  23.330000  122.639999   \n\n          DD        DIS         GE          GS  ...        PFE         PG  \\\n0  59.409999  64.750000  24.280001  165.250000  ...  28.799999  79.279999   \n1  59.319997  64.320000  24.320000  162.970001  ...  28.709999  78.620003   \n2  59.319997  64.449997  24.230000  162.309998  ...  28.490000  77.720001   \n3  59.509996  65.239998  24.250000  162.289993  ...  28.520000  78.050003   \n4  59.009995  65.190002  24.049999  159.850006  ...  28.879999  77.209999   \n\n           T        TRV        UNH         UTX           V         VZ  \\\n0  34.220001  86.379997  71.820000  109.419998  196.240005  47.980000   \n1  34.090000  85.870003  72.320000  110.000000  193.339996  47.270000   \n2  34.049999  85.980003  71.980003  109.260002  191.559998  46.950001   \n3  34.230000  85.830002  72.160004  109.660004  193.559998  47.669998   \n4  33.980000  85.410004  71.989998  109.360001  193.050003  47.000000   \n\n         WMT        XOM  \n0  76.419998  87.750000  \n1  75.750000  87.360001  \n2  74.650002  87.139999  \n3  74.620003  87.070000  \n4  74.360001  86.900002  \n\n[5 rows x 31 columns]",
      "text/html": "<div>\n<style scoped>\n    .dataframe tbody tr th:only-of-type {\n        vertical-align: middle;\n    }\n\n    .dataframe tbody tr th {\n        vertical-align: top;\n    }\n\n    .dataframe thead th {\n        text-align: right;\n    }\n</style>\n<table border=\"1\" class=\"dataframe\">\n  <thead>\n    <tr style=\"text-align: right;\">\n      <th></th>\n      <th>date</th>\n      <th>AXP</th>\n      <th>BA</th>\n      <th>CAT</th>\n      <th>CSCO</th>\n      <th>CVX</th>\n      <th>DD</th>\n      <th>DIS</th>\n      <th>GE</th>\n      <th>GS</th>\n      <th>...</th>\n      <th>PFE</th>\n      <th>PG</th>\n      <th>T</th>\n      <th>TRV</th>\n      <th>UNH</th>\n      <th>UTX</th>\n      <th>V</th>\n      <th>VZ</th>\n      <th>WMT</th>\n      <th>XOM</th>\n    </tr>\n  </thead>\n  <tbody>\n    <tr>\n      <th>0</th>\n      <td>2013-09-23</td>\n      <td>76.440002</td>\n      <td>117.510002</td>\n      <td>85.029999</td>\n      <td>24.270000</td>\n      <td>125.519997</td>\n      <td>59.409999</td>\n      <td>64.750000</td>\n      <td>24.280001</td>\n      <td>165.250000</td>\n      <td>...</td>\n      <td>28.799999</td>\n      <td>79.279999</td>\n      <td>34.220001</td>\n      <td>86.379997</td>\n      <td>71.820000</td>\n      <td>109.419998</td>\n      <td>196.240005</td>\n      <td>47.980000</td>\n      <td>76.419998</td>\n      <td>87.750000</td>\n    </tr>\n    <tr>\n      <th>1</th>\n      <td>2013-09-24</td>\n      <td>76.070000</td>\n      <td>119.000000</td>\n      <td>85.110001</td>\n      <td>24.139999</td>\n      <td>124.489998</td>\n      <td>59.319997</td>\n      <td>64.320000</td>\n      <td>24.320000</td>\n      <td>162.970001</td>\n      <td>...</td>\n      <td>28.709999</td>\n      <td>78.620003</td>\n      <td>34.090000</td>\n      <td>85.870003</td>\n      <td>72.320000</td>\n      <td>110.000000</td>\n      <td>193.339996</td>\n      <td>47.270000</td>\n      <td>75.750000</td>\n      <td>87.360001</td>\n    </tr>\n    <tr>\n      <th>2</th>\n      <td>2013-09-25</td>\n      <td>75.989998</td>\n      <td>118.510002</td>\n      <td>84.500000</td>\n      <td>24.430000</td>\n      <td>124.070000</td>\n      <td>59.319997</td>\n      <td>64.449997</td>\n      <td>24.230000</td>\n      <td>162.309998</td>\n      <td>...</td>\n      <td>28.490000</td>\n      <td>77.720001</td>\n      <td>34.049999</td>\n      <td>85.980003</td>\n      <td>71.980003</td>\n      <td>109.260002</td>\n      <td>191.559998</td>\n      <td>46.950001</td>\n      <td>74.650002</td>\n      <td>87.139999</td>\n    </tr>\n    <tr>\n      <th>3</th>\n      <td>2013-09-26</td>\n      <td>76.320000</td>\n      <td>119.379997</td>\n      <td>84.199997</td>\n      <td>23.770000</td>\n      <td>123.489998</td>\n      <td>59.509996</td>\n      <td>65.239998</td>\n      <td>24.250000</td>\n      <td>162.289993</td>\n      <td>...</td>\n      <td>28.520000</td>\n      <td>78.050003</td>\n      <td>34.230000</td>\n      <td>85.830002</td>\n      <td>72.160004</td>\n      <td>109.660004</td>\n      <td>193.559998</td>\n      <td>47.669998</td>\n      <td>74.620003</td>\n      <td>87.070000</td>\n    </tr>\n    <tr>\n      <th>4</th>\n      <td>2013-09-27</td>\n      <td>75.889999</td>\n      <td>118.739998</td>\n      <td>83.800003</td>\n      <td>23.330000</td>\n      <td>122.639999</td>\n      <td>59.009995</td>\n      <td>65.190002</td>\n      <td>24.049999</td>\n      <td>159.850006</td>\n      <td>...</td>\n      <td>28.879999</td>\n      <td>77.209999</td>\n      <td>33.980000</td>\n      <td>85.410004</td>\n      <td>71.989998</td>\n      <td>109.360001</td>\n      <td>193.050003</td>\n      <td>47.000000</td>\n      <td>74.360001</td>\n      <td>86.900002</td>\n    </tr>\n  </tbody>\n</table>\n<p>5 rows × 31 columns</p>\n</div>"
     },
     "execution_count": 3,
     "metadata": {},
     "output_type": "execute_result"
    }
   ],
   "source": [
    "prices_data = pd.read_csv(\"datasets/close_prices.csv\")\n",
    "prices_data.head()"
   ],
   "metadata": {
    "collapsed": false,
    "pycharm": {
     "name": "#%%\n"
    }
   }
  },
  {
   "cell_type": "code",
   "execution_count": 20,
   "outputs": [
    {
     "data": {
      "text/plain": "array([0.73897118, 0.11007169, 0.04995088, 0.0287492 ])"
     },
     "execution_count": 20,
     "metadata": {},
     "output_type": "execute_result"
    }
   ],
   "source": [
    "pca =  PCA(10)\n",
    "pca.fit(prices_data.iloc[:, 1:])\n",
    "pca.explained_variance_ratio_[:4] # 4 components to explain 0.9 variance"
   ],
   "metadata": {
    "collapsed": false,
    "pycharm": {
     "name": "#%%\n"
    }
   }
  },
  {
   "cell_type": "code",
   "execution_count": 40,
   "outputs": [],
   "source": [
    "transformed =  pca.transform(prices_data.iloc[:, 1:])\n",
    "first_component = transformed[:, 0]"
   ],
   "metadata": {
    "collapsed": false,
    "pycharm": {
     "name": "#%%\n"
    }
   }
  },
  {
   "cell_type": "code",
   "execution_count": 41,
   "outputs": [
    {
     "data": {
      "text/plain": "         date          ^DJI\n0  2013-09-23  15401.379883\n1  2013-09-24  15334.589844\n2  2013-09-25  15273.259766\n3  2013-09-26  15328.299805\n4  2013-09-27  15258.240234",
      "text/html": "<div>\n<style scoped>\n    .dataframe tbody tr th:only-of-type {\n        vertical-align: middle;\n    }\n\n    .dataframe tbody tr th {\n        vertical-align: top;\n    }\n\n    .dataframe thead th {\n        text-align: right;\n    }\n</style>\n<table border=\"1\" class=\"dataframe\">\n  <thead>\n    <tr style=\"text-align: right;\">\n      <th></th>\n      <th>date</th>\n      <th>^DJI</th>\n    </tr>\n  </thead>\n  <tbody>\n    <tr>\n      <th>0</th>\n      <td>2013-09-23</td>\n      <td>15401.379883</td>\n    </tr>\n    <tr>\n      <th>1</th>\n      <td>2013-09-24</td>\n      <td>15334.589844</td>\n    </tr>\n    <tr>\n      <th>2</th>\n      <td>2013-09-25</td>\n      <td>15273.259766</td>\n    </tr>\n    <tr>\n      <th>3</th>\n      <td>2013-09-26</td>\n      <td>15328.299805</td>\n    </tr>\n    <tr>\n      <th>4</th>\n      <td>2013-09-27</td>\n      <td>15258.240234</td>\n    </tr>\n  </tbody>\n</table>\n</div>"
     },
     "execution_count": 41,
     "metadata": {},
     "output_type": "execute_result"
    }
   ],
   "source": [
    "DDD = pd.read_csv(\"datasets/djia_index.csv\")\n",
    "DDD.head()"
   ],
   "metadata": {
    "collapsed": false,
    "pycharm": {
     "name": "#%%\n"
    }
   }
  },
  {
   "cell_type": "code",
   "execution_count": 44,
   "outputs": [
    {
     "data": {
      "text/plain": "0.91"
     },
     "execution_count": 44,
     "metadata": {},
     "output_type": "execute_result"
    }
   ],
   "source": [
    "round(np.corrcoef(DDD[\"^DJI\"], first_component)[0, 1], 2)"
   ],
   "metadata": {
    "collapsed": false,
    "pycharm": {
     "name": "#%%\n"
    }
   }
  },
  {
   "cell_type": "code",
   "execution_count": 34,
   "outputs": [
    {
     "data": {
      "text/plain": "0      15401.379883\n1      15334.589844\n2      15273.259766\n3      15328.299805\n4      15258.240234\n           ...     \n369    17895.220703\n370    17749.310547\n371    17977.419922\n372    17849.080078\n373    18076.189453\nName: ^DJI, Length: 374, dtype: float64"
     },
     "execution_count": 34,
     "metadata": {},
     "output_type": "execute_result"
    }
   ],
   "source": [
    "DDD[\"^DJI\"]"
   ],
   "metadata": {
    "collapsed": false,
    "pycharm": {
     "name": "#%%\n"
    }
   }
  },
  {
   "cell_type": "code",
   "execution_count": 61,
   "outputs": [
    {
     "data": {
      "text/plain": "[(0.5796839457473609, 'V'),\n (0.32961558381585265, 'MMM'),\n (0.3215640173761907, 'UNH'),\n (0.28899602916707423, 'HD'),\n (-0.2649987952548474, 'IBM'),\n (0.25122703209089803, 'GS'),\n (0.23390628951791742, 'DIS'),\n (0.21188886780132193, 'NKE'),\n (0.18947974464619474, 'TRV'),\n (-0.12585993303584914, 'CVX'),\n (0.12064492322861024, 'BA'),\n (0.1140895667145121, 'DD'),\n (0.09313201682640568, 'INTC'),\n (0.09139484029206317, 'JNJ'),\n (0.08716143338286816, 'WMT'),\n (0.07773169539162306, 'PG'),\n (0.07622956987651157, 'MSFT'),\n (0.07138971328880263, 'MRK'),\n (0.05368348732868326, 'UTX'),\n (-0.051661271080882885, 'CAT'),\n (0.050484236916854025, 'CSCO'),\n (0.0469879340265936, 'JPM'),\n (-0.042942141992919576, 'XOM'),\n (0.029054941715540454, 'KO'),\n (-0.026106882759562997, 'MCD'),\n (0.02309229406885349, 'PFE'),\n (0.016138383984734793, 'AXP'),\n (-0.007205945895008226, 'T'),\n (-0.006205137490081553, 'GE'),\n (0.00010912222981037917, 'VZ')]"
     },
     "execution_count": 61,
     "metadata": {},
     "output_type": "execute_result"
    }
   ],
   "source": [
    "sorted(zip(pca.components_[0],prices_data.columns.values[1:]), key= lambda x:abs(x[0]), reverse=True)"
   ],
   "metadata": {
    "collapsed": false,
    "pycharm": {
     "name": "#%%\n"
    }
   }
  },
  {
   "cell_type": "code",
   "execution_count": 58,
   "outputs": [
    {
     "data": {
      "text/plain": "array([753.53936404, 290.82384392, 195.9132354 , 148.62951526,\n       130.4736952 , 121.82829504,  72.01066717,  68.69238032,\n        49.6329401 ,  48.4592519 ])"
     },
     "execution_count": 58,
     "metadata": {},
     "output_type": "execute_result"
    }
   ],
   "source": [
    "pca.singular_values_"
   ],
   "metadata": {
    "collapsed": false,
    "pycharm": {
     "name": "#%%\n"
    }
   }
  }
 ],
 "metadata": {
  "kernelspec": {
   "display_name": "Python 3",
   "language": "python",
   "name": "python3"
  },
  "language_info": {
   "codemirror_mode": {
    "name": "ipython",
    "version": 2
   },
   "file_extension": ".py",
   "mimetype": "text/x-python",
   "name": "python",
   "nbconvert_exporter": "python",
   "pygments_lexer": "ipython2",
   "version": "2.7.6"
  }
 },
 "nbformat": 4,
 "nbformat_minor": 0
}